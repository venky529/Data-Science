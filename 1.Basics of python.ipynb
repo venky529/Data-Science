{
 "cells": [
  {
   "cell_type": "markdown",
   "id": "42b1f384-bbb0-425c-bc97-efc364efca35",
   "metadata": {},
   "source": [
    "## Basics of python\n",
    "- Datatypes\n",
    "- Variables\n",
    "- print Formatting"
   ]
  },
  {
   "cell_type": "markdown",
   "id": "c9a9f7b3-4f83-4492-91b0-4e028a34cf7f",
   "metadata": {},
   "source": [
    "#### --Numbers"
   ]
  },
  {
   "cell_type": "code",
   "execution_count": 55,
   "id": "582f83df-2897-4be9-b144-4ba07c488021",
   "metadata": {},
   "outputs": [
    {
     "data": {
      "text/plain": [
       "2"
      ]
     },
     "execution_count": 55,
     "metadata": {},
     "output_type": "execute_result"
    }
   ],
   "source": [
    "1+1"
   ]
  },
  {
   "cell_type": "code",
   "execution_count": 43,
   "id": "15112c6c-0806-4b1a-9ab7-ba96629439c9",
   "metadata": {},
   "outputs": [
    {
     "data": {
      "text/plain": [
       "20"
      ]
     },
     "execution_count": 43,
     "metadata": {},
     "output_type": "execute_result"
    }
   ],
   "source": [
    "4*5"
   ]
  },
  {
   "cell_type": "code",
   "execution_count": 45,
   "id": "7a64b181-3d3a-41f2-a20a-65999a4e4815",
   "metadata": {},
   "outputs": [
    {
     "data": {
      "text/plain": [
       "20.0"
      ]
     },
     "execution_count": 45,
     "metadata": {},
     "output_type": "execute_result"
    }
   ],
   "source": [
    "2*10.0"
   ]
  },
  {
   "cell_type": "code",
   "execution_count": 47,
   "id": "f9aef515-dd02-468b-a871-79df5f895c62",
   "metadata": {},
   "outputs": [
    {
     "data": {
      "text/plain": [
       "5.0"
      ]
     },
     "execution_count": 47,
     "metadata": {},
     "output_type": "execute_result"
    }
   ],
   "source": [
    "10/2.0"
   ]
  },
  {
   "cell_type": "code",
   "execution_count": 49,
   "id": "4929a317-e939-40a8-bd22-ed3b333f7c8b",
   "metadata": {},
   "outputs": [
    {
     "data": {
      "text/plain": [
       "100"
      ]
     },
     "execution_count": 49,
     "metadata": {},
     "output_type": "execute_result"
    }
   ],
   "source": [
    "10**2"
   ]
  },
  {
   "cell_type": "markdown",
   "id": "cb3e8068-b79b-4bf2-812d-7e1c865d0df9",
   "metadata": {},
   "source": [
    "### --Datatypes"
   ]
  },
  {
   "cell_type": "code",
   "execution_count": 58,
   "id": "f0ab776e-69b3-4cd6-ad74-c943e486560f",
   "metadata": {},
   "outputs": [
    {
     "data": {
      "text/plain": [
       "int"
      ]
     },
     "execution_count": 58,
     "metadata": {},
     "output_type": "execute_result"
    }
   ],
   "source": [
    "type(1)"
   ]
  },
  {
   "cell_type": "code",
   "execution_count": 60,
   "id": "24b4401c-b899-4977-ae8f-0384ea3483da",
   "metadata": {},
   "outputs": [
    {
     "data": {
      "text/plain": [
       "int"
      ]
     },
     "execution_count": 60,
     "metadata": {},
     "output_type": "execute_result"
    }
   ],
   "source": [
    "type(2345)"
   ]
  },
  {
   "cell_type": "code",
   "execution_count": 62,
   "id": "1b235194-5257-469d-b0f5-dc4640356b21",
   "metadata": {},
   "outputs": [
    {
     "data": {
      "text/plain": [
       "float"
      ]
     },
     "execution_count": 62,
     "metadata": {},
     "output_type": "execute_result"
    }
   ],
   "source": [
    "type(12.32)"
   ]
  },
  {
   "cell_type": "code",
   "execution_count": 64,
   "id": "fbb08a60-baff-45ae-8645-8d43315c95ae",
   "metadata": {},
   "outputs": [
    {
     "data": {
      "text/plain": [
       "float"
      ]
     },
     "execution_count": 64,
     "metadata": {},
     "output_type": "execute_result"
    }
   ],
   "source": [
    "type(125235483.4567326)"
   ]
  },
  {
   "cell_type": "code",
   "execution_count": 66,
   "id": "004db433-bf09-40b2-abe3-e9ba628d738d",
   "metadata": {},
   "outputs": [
    {
     "data": {
      "text/plain": [
       "str"
      ]
     },
     "execution_count": 66,
     "metadata": {},
     "output_type": "execute_result"
    }
   ],
   "source": [
    "type(\"HELLO PYTHON\")"
   ]
  },
  {
   "cell_type": "code",
   "execution_count": 68,
   "id": "9f34c240-0e66-4c1f-be8f-e900f33c18eb",
   "metadata": {},
   "outputs": [
    {
     "data": {
      "text/plain": [
       "str"
      ]
     },
     "execution_count": 68,
     "metadata": {},
     "output_type": "execute_result"
    }
   ],
   "source": [
    "type('HELLO PYTHON')"
   ]
  },
  {
   "cell_type": "code",
   "execution_count": 70,
   "id": "9c1adba1-0b56-4dc2-98d1-e80012018d6a",
   "metadata": {},
   "outputs": [
    {
     "data": {
      "text/plain": [
       "str"
      ]
     },
     "execution_count": 70,
     "metadata": {},
     "output_type": "execute_result"
    }
   ],
   "source": [
    "type(\"hello\")"
   ]
  },
  {
   "cell_type": "code",
   "execution_count": 72,
   "id": "0bbe38ac-3555-4871-91bf-d54922582170",
   "metadata": {},
   "outputs": [
    {
     "data": {
      "text/plain": [
       "str"
      ]
     },
     "execution_count": 72,
     "metadata": {},
     "output_type": "execute_result"
    }
   ],
   "source": [
    "type(\"HELLO_PYTHON\")"
   ]
  },
  {
   "cell_type": "markdown",
   "id": "704deffe-9364-41fa-b7a0-504df1f9308d",
   "metadata": {},
   "source": [
    "### --String"
   ]
  },
  {
   "cell_type": "code",
   "execution_count": 75,
   "id": "51a2fc3c-3a50-4143-9ed2-d2efa82ed184",
   "metadata": {},
   "outputs": [
    {
     "data": {
      "text/plain": [
       "'hello'"
      ]
     },
     "execution_count": 75,
     "metadata": {},
     "output_type": "execute_result"
    }
   ],
   "source": [
    "\"hello\""
   ]
  },
  {
   "cell_type": "code",
   "execution_count": 77,
   "id": "37fcbd06-9851-43b5-9fb9-039170396b71",
   "metadata": {},
   "outputs": [
    {
     "data": {
      "text/plain": [
       "'hai'"
      ]
     },
     "execution_count": 77,
     "metadata": {},
     "output_type": "execute_result"
    }
   ],
   "source": [
    "'hai'"
   ]
  },
  {
   "cell_type": "code",
   "execution_count": 79,
   "id": "dc4c1750-8af9-4d9d-9ef6-5246629a8b1f",
   "metadata": {},
   "outputs": [
    {
     "data": {
      "text/plain": [
       "str"
      ]
     },
     "execution_count": 79,
     "metadata": {},
     "output_type": "execute_result"
    }
   ],
   "source": [
    "type('hai')"
   ]
  },
  {
   "cell_type": "code",
   "execution_count": 81,
   "id": "7031bf50-26fe-46b1-a1b2-eec38e045e2c",
   "metadata": {},
   "outputs": [
    {
     "name": "stdout",
     "output_type": "stream",
     "text": [
      "<class 'str'>\n"
     ]
    }
   ],
   "source": [
    "\"hello\"\n",
    "'hai'\n",
    "print(type('hai'))"
   ]
  },
  {
   "cell_type": "markdown",
   "id": "7919da12-f1a6-449a-ac22-132ff5c1b495",
   "metadata": {},
   "source": [
    "### --Variables Assignment\n",
    "- Syntax --var_name = values."
   ]
  },
  {
   "cell_type": "code",
   "execution_count": 85,
   "id": "622b7cfd-29da-4202-8945-9b8ddc72a485",
   "metadata": {},
   "outputs": [
    {
     "data": {
      "text/plain": [
       "int"
      ]
     },
     "execution_count": 85,
     "metadata": {},
     "output_type": "execute_result"
    }
   ],
   "source": [
    "a=10\n",
    "type(a)"
   ]
  },
  {
   "cell_type": "code",
   "execution_count": 87,
   "id": "40747120-08c8-4b62-9066-b72531294ff5",
   "metadata": {},
   "outputs": [
    {
     "data": {
      "text/plain": [
       "str"
      ]
     },
     "execution_count": 87,
     "metadata": {},
     "output_type": "execute_result"
    }
   ],
   "source": [
    "a = \"hello world\"\n",
    "type(a)"
   ]
  },
  {
   "cell_type": "code",
   "execution_count": 115,
   "id": "9c7d242a-d7f3-4eb7-abbb-32a223717fa9",
   "metadata": {},
   "outputs": [],
   "source": [
    "a = 10.0\n",
    "b = 25\n",
    "c = \"Python\""
   ]
  },
  {
   "cell_type": "code",
   "execution_count": 109,
   "id": "9b77955d-3a33-4e3a-8c50-da6e1c2e7bc4",
   "metadata": {},
   "outputs": [
    {
     "data": {
      "text/plain": [
       "float"
      ]
     },
     "execution_count": 109,
     "metadata": {},
     "output_type": "execute_result"
    }
   ],
   "source": [
    "type(a)"
   ]
  },
  {
   "cell_type": "code",
   "execution_count": 111,
   "id": "a85a14e5-fec6-4e10-8082-1150d3d932c7",
   "metadata": {},
   "outputs": [
    {
     "data": {
      "text/plain": [
       "int"
      ]
     },
     "execution_count": 111,
     "metadata": {},
     "output_type": "execute_result"
    }
   ],
   "source": [
    "type(b)"
   ]
  },
  {
   "cell_type": "code",
   "execution_count": 113,
   "id": "e8d518ce-8143-4ed2-bdea-3a938dd49bcb",
   "metadata": {},
   "outputs": [
    {
     "data": {
      "text/plain": [
       "str"
      ]
     },
     "execution_count": 113,
     "metadata": {},
     "output_type": "execute_result"
    }
   ],
   "source": [
    "type(c)"
   ]
  },
  {
   "cell_type": "markdown",
   "id": "f6424118-259d-4819-a476-2e3ae232be8e",
   "metadata": {},
   "source": [
    "#### --Mathematical Operations"
   ]
  },
  {
   "cell_type": "code",
   "execution_count": 121,
   "id": "3a311073-5ff2-42f0-bd49-16b3a4368f37",
   "metadata": {},
   "outputs": [],
   "source": [
    "a= 10\n",
    "b= 20"
   ]
  },
  {
   "cell_type": "code",
   "execution_count": 123,
   "id": "879e9141-6389-47fa-a3bc-de5f90688907",
   "metadata": {},
   "outputs": [
    {
     "name": "stdout",
     "output_type": "stream",
     "text": [
      "30\n"
     ]
    }
   ],
   "source": [
    "print(a+b)"
   ]
  },
  {
   "cell_type": "code",
   "execution_count": 125,
   "id": "17bf6604-28fc-4328-bcf6-648311802c61",
   "metadata": {},
   "outputs": [
    {
     "name": "stdout",
     "output_type": "stream",
     "text": [
      "-10\n"
     ]
    }
   ],
   "source": [
    "print(a-b)"
   ]
  },
  {
   "cell_type": "code",
   "execution_count": 127,
   "id": "fa5e1471-0e04-43d9-a8c9-6c0a98f2aaff",
   "metadata": {},
   "outputs": [
    {
     "name": "stdout",
     "output_type": "stream",
     "text": [
      "10\n"
     ]
    }
   ],
   "source": [
    "print(b-a)"
   ]
  },
  {
   "cell_type": "code",
   "execution_count": 129,
   "id": "457969ed-b946-41a8-a119-a06c42fe74a4",
   "metadata": {},
   "outputs": [
    {
     "name": "stdout",
     "output_type": "stream",
     "text": [
      "200\n"
     ]
    }
   ],
   "source": [
    "print(a*b)"
   ]
  },
  {
   "cell_type": "code",
   "execution_count": 131,
   "id": "1bcb11fd-58ad-401b-9e10-d640a8f64dda",
   "metadata": {},
   "outputs": [
    {
     "name": "stdout",
     "output_type": "stream",
     "text": [
      "0\n"
     ]
    }
   ],
   "source": [
    "print(a&b)"
   ]
  },
  {
   "cell_type": "code",
   "execution_count": 133,
   "id": "79c2996a-806e-4d54-8d04-00dc1121c21b",
   "metadata": {},
   "outputs": [
    {
     "name": "stdout",
     "output_type": "stream",
     "text": [
      "10\n"
     ]
    }
   ],
   "source": [
    "print(a%b)"
   ]
  },
  {
   "cell_type": "code",
   "execution_count": 135,
   "id": "773df9f1-d2ca-4abf-84a1-a4f80a405d08",
   "metadata": {},
   "outputs": [
    {
     "name": "stdout",
     "output_type": "stream",
     "text": [
      "0.5\n"
     ]
    }
   ],
   "source": [
    "print(a/b)"
   ]
  },
  {
   "cell_type": "code",
   "execution_count": 137,
   "id": "fcfbab57-9154-4eb7-b5aa-d2336dc8d4d3",
   "metadata": {},
   "outputs": [
    {
     "name": "stdout",
     "output_type": "stream",
     "text": [
      "200.5\n"
     ]
    }
   ],
   "source": [
    "print((a*b) + (a/b))"
   ]
  },
  {
   "cell_type": "code",
   "execution_count": 139,
   "id": "f12bf9d0-94c2-4e5e-858b-0e6a3d728ff8",
   "metadata": {},
   "outputs": [
    {
     "name": "stdout",
     "output_type": "stream",
     "text": [
      "900.5\n"
     ]
    }
   ],
   "source": [
    "print( (a+b)**2 + (a/b))"
   ]
  },
  {
   "cell_type": "markdown",
   "id": "cdab5206-d82a-4f09-9fc4-97552bbe0028",
   "metadata": {},
   "source": [
    "#### --Various ways of printing"
   ]
  },
  {
   "cell_type": "code",
   "execution_count": 142,
   "id": "2f84a5e1-e52f-4a99-a2c4-7edec93bbe4f",
   "metadata": {},
   "outputs": [
    {
     "name": "stdout",
     "output_type": "stream",
     "text": [
      "hello\n"
     ]
    }
   ],
   "source": [
    "print(\"hello\")"
   ]
  },
  {
   "cell_type": "code",
   "execution_count": 144,
   "id": "52c1160d-0bab-471a-adb3-daee95a1f20a",
   "metadata": {},
   "outputs": [
    {
     "name": "stdout",
     "output_type": "stream",
     "text": [
      " hello world, this is the second print statement in this Jupiter Notebook\n"
     ]
    }
   ],
   "source": [
    "print(' hello world, this is the second print statement in this Jupiter Notebook')"
   ]
  },
  {
   "cell_type": "code",
   "execution_count": 13,
   "id": "0179d0c8-7a05-4446-899c-987779c3432d",
   "metadata": {},
   "outputs": [],
   "source": [
    "First_name = \"Venkatesh\"\n",
    "Last_name = \"Madhabathula\""
   ]
  },
  {
   "cell_type": "code",
   "execution_count": 15,
   "id": "bf248709-dafd-4ca8-8221-e65d40c905a5",
   "metadata": {},
   "outputs": [
    {
     "name": "stdout",
     "output_type": "stream",
     "text": [
      "Venkatesh Madhabathula\n"
     ]
    }
   ],
   "source": [
    "print(First_name , Last_name)"
   ]
  },
  {
   "cell_type": "code",
   "execution_count": 17,
   "id": "c70eddd2-9e88-420b-b672-da447f970b8d",
   "metadata": {},
   "outputs": [
    {
     "name": "stdout",
     "output_type": "stream",
     "text": [
      "my First name is Venkatesh and Last name is Madhabathula\n"
     ]
    }
   ],
   "source": [
    "print(\"my First name is {F} and Last name is {L}\".format(F=First_name,L=Last_name))"
   ]
  },
  {
   "cell_type": "code",
   "execution_count": 19,
   "id": "2b8dc7cc-a6f7-40bc-9eff-6392c3b821e7",
   "metadata": {},
   "outputs": [
    {
     "name": "stdout",
     "output_type": "stream",
     "text": [
      "my First name is Venkatesh and Last name is Madhabathula\n"
     ]
    }
   ],
   "source": [
    "First_name = \"Venkatesh\"\n",
    "Last_name = \"Madhabathula\"\n",
    "\n",
    "print(\"my First name is {} and Last name is {}\".format(First_name ,Last_name ))"
   ]
  },
  {
   "cell_type": "code",
   "execution_count": null,
   "id": "3fb40379-c715-449d-95e6-4c759cc77b14",
   "metadata": {},
   "outputs": [],
   "source": []
  }
 ],
 "metadata": {
  "kernelspec": {
   "display_name": "Python 3 (ipykernel)",
   "language": "python",
   "name": "python3"
  },
  "language_info": {
   "codemirror_mode": {
    "name": "ipython",
    "version": 3
   },
   "file_extension": ".py",
   "mimetype": "text/x-python",
   "name": "python",
   "nbconvert_exporter": "python",
   "pygments_lexer": "ipython3",
   "version": "3.11.7"
  }
 },
 "nbformat": 4,
 "nbformat_minor": 5
}

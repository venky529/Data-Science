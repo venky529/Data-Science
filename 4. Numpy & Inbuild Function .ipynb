{
 "cells": [
  {
   "cell_type": "markdown",
   "id": "96f8068c-9be6-4098-b2e9-16bc7c945bca",
   "metadata": {},
   "source": [
    "### Numpy \n",
    " - it is a general purpose array processing package.\n",
    " - it provides high performance multidimensional array object and tool for making with these array.\n",
    " - it is the fundamental package for scientific computing with python."
   ]
  },
  {
   "cell_type": "markdown",
   "id": "7b531097-5636-42d5-b9d8-1497513b5e4f",
   "metadata": {},
   "source": [
    "### Array\n",
    "  - Data Structure that stores values of same datatypes."
   ]
  },
  {
   "cell_type": "code",
   "execution_count": 7,
   "id": "6132a575-fed8-42e0-85f5-aacee472faf5",
   "metadata": {},
   "outputs": [],
   "source": [
    "#importing  numpy\n",
    "import numpy as np"
   ]
  },
  {
   "cell_type": "code",
   "execution_count": 9,
   "id": "5b8e0d99-5551-42a4-a07b-ee953830bebe",
   "metadata": {},
   "outputs": [],
   "source": [
    "my_lst =[1,2,3,4,5]"
   ]
  },
  {
   "cell_type": "code",
   "execution_count": 13,
   "id": "48a4b144-bd4d-4960-be77-71ad6f1adedf",
   "metadata": {},
   "outputs": [],
   "source": [
    "arr = np.array(my_lst)"
   ]
  },
  {
   "cell_type": "code",
   "execution_count": 15,
   "id": "e55c887e-d543-4420-a3a2-9bc1a0e40f8e",
   "metadata": {},
   "outputs": [
    {
     "data": {
      "text/plain": [
       "array([1, 2, 3, 4, 5])"
      ]
     },
     "execution_count": 15,
     "metadata": {},
     "output_type": "execute_result"
    }
   ],
   "source": [
    "arr"
   ]
  },
  {
   "cell_type": "code",
   "execution_count": 17,
   "id": "9bfb8a2e-8f86-4d74-8f58-4745e33c972e",
   "metadata": {},
   "outputs": [
    {
     "data": {
      "text/plain": [
       "numpy.ndarray"
      ]
     },
     "execution_count": 17,
     "metadata": {},
     "output_type": "execute_result"
    }
   ],
   "source": [
    "type(arr)"
   ]
  },
  {
   "cell_type": "code",
   "execution_count": 19,
   "id": "07acf22f-2b8b-4f01-9ecc-dde664a9f3e5",
   "metadata": {},
   "outputs": [
    {
     "data": {
      "text/plain": [
       "(5,)"
      ]
     },
     "execution_count": 19,
     "metadata": {},
     "output_type": "execute_result"
    }
   ],
   "source": [
    "arr.shape"
   ]
  },
  {
   "cell_type": "code",
   "execution_count": 30,
   "id": "af687729-6dc1-4988-9168-518ef6eed9af",
   "metadata": {},
   "outputs": [],
   "source": [
    "# Multidimensional Array"
   ]
  },
  {
   "cell_type": "code",
   "execution_count": 32,
   "id": "83344f9b-c99c-4358-a6b8-f2afcb22d3e3",
   "metadata": {},
   "outputs": [],
   "source": [
    "my_lst1 = [1,2,3,4,5]"
   ]
  },
  {
   "cell_type": "code",
   "execution_count": 34,
   "id": "1421bf71-7340-4731-89c6-070b279b5a69",
   "metadata": {},
   "outputs": [],
   "source": [
    "my_lst2 = [6,7,8,9,10]"
   ]
  },
  {
   "cell_type": "code",
   "execution_count": 36,
   "id": "5af4c1f6-d811-47af-b929-0dd1c1db6743",
   "metadata": {},
   "outputs": [],
   "source": [
    "my_lst3 = [11,12,13,14,15]"
   ]
  },
  {
   "cell_type": "code",
   "execution_count": 38,
   "id": "3810817d-b99a-4ba9-926a-bf9ff419fecb",
   "metadata": {},
   "outputs": [],
   "source": [
    "arr = np.array([my_lst1 , my_lst2, my_lst3])"
   ]
  },
  {
   "cell_type": "code",
   "execution_count": 40,
   "id": "72b5b533-9b36-4c12-9bce-7c8fdc4184fa",
   "metadata": {},
   "outputs": [
    {
     "data": {
      "text/plain": [
       "array([[ 1,  2,  3,  4,  5],\n",
       "       [ 6,  7,  8,  9, 10],\n",
       "       [11, 12, 13, 14, 15]])"
      ]
     },
     "execution_count": 40,
     "metadata": {},
     "output_type": "execute_result"
    }
   ],
   "source": [
    "arr"
   ]
  },
  {
   "cell_type": "code",
   "execution_count": 42,
   "id": "073e1b92-bf3a-462e-9d25-eb610cc08e8e",
   "metadata": {},
   "outputs": [
    {
     "data": {
      "text/plain": [
       "(3, 5)"
      ]
     },
     "execution_count": 42,
     "metadata": {},
     "output_type": "execute_result"
    }
   ],
   "source": [
    "arr.shape"
   ]
  },
  {
   "cell_type": "code",
   "execution_count": 50,
   "id": "3b3149ca-e06b-4b3a-8d93-47303565bce7",
   "metadata": {},
   "outputs": [],
   "source": [
    "lst = arr.reshape(5,3)"
   ]
  },
  {
   "cell_type": "code",
   "execution_count": 52,
   "id": "a5630b65-ef6a-4ab6-b607-cf0ed97af88b",
   "metadata": {},
   "outputs": [
    {
     "data": {
      "text/plain": [
       "array([[ 1,  2,  3],\n",
       "       [ 4,  5,  6],\n",
       "       [ 7,  8,  9],\n",
       "       [10, 11, 12],\n",
       "       [13, 14, 15]])"
      ]
     },
     "execution_count": 52,
     "metadata": {},
     "output_type": "execute_result"
    }
   ],
   "source": [
    "lst"
   ]
  },
  {
   "cell_type": "code",
   "execution_count": 54,
   "id": "630fffe1-fdf6-4fec-9837-45336ecefac4",
   "metadata": {},
   "outputs": [
    {
     "data": {
      "text/plain": [
       "(5, 3)"
      ]
     },
     "execution_count": 54,
     "metadata": {},
     "output_type": "execute_result"
    }
   ],
   "source": [
    "lst.shape"
   ]
  },
  {
   "cell_type": "markdown",
   "id": "ea24ec0b-fd34-4ff5-bfb8-fc667cf06a58",
   "metadata": {},
   "source": [
    "##### Indexing in Numpy Array"
   ]
  },
  {
   "cell_type": "code",
   "execution_count": 59,
   "id": "ae8c777b-33b0-4afd-99d2-ee821fe92e23",
   "metadata": {},
   "outputs": [],
   "source": [
    "# Accessing the Array Elements"
   ]
  },
  {
   "cell_type": "code",
   "execution_count": 61,
   "id": "7ac6edfb-1037-4474-b8ac-c34634b98682",
   "metadata": {},
   "outputs": [],
   "source": [
    "arr = np.array([1,2,3,4,5,6,7,8,9,0])"
   ]
  },
  {
   "cell_type": "code",
   "execution_count": 63,
   "id": "c7179c79-4e45-4aa4-a36d-c982363c66e0",
   "metadata": {},
   "outputs": [
    {
     "data": {
      "text/plain": [
       "4"
      ]
     },
     "execution_count": 63,
     "metadata": {},
     "output_type": "execute_result"
    }
   ],
   "source": [
    "arr[3]"
   ]
  },
  {
   "cell_type": "code",
   "execution_count": 67,
   "id": "3298be9c-a0ad-441d-b392-152d88870dd5",
   "metadata": {},
   "outputs": [],
   "source": [
    "arr1 = np.array([[1,2,3,4,5] , [6,7,8,9,10] ,[11,12,13,14,15]])"
   ]
  },
  {
   "cell_type": "code",
   "execution_count": 69,
   "id": "fbd68b83-98f7-4332-8351-e7f12b391097",
   "metadata": {},
   "outputs": [
    {
     "data": {
      "text/plain": [
       "array([[ 1,  2,  3,  4,  5],\n",
       "       [ 6,  7,  8,  9, 10],\n",
       "       [11, 12, 13, 14, 15]])"
      ]
     },
     "execution_count": 69,
     "metadata": {},
     "output_type": "execute_result"
    }
   ],
   "source": [
    "arr1"
   ]
  },
  {
   "cell_type": "code",
   "execution_count": 71,
   "id": "8b9c9934-277d-4e39-ab0a-daed147bd4be",
   "metadata": {},
   "outputs": [
    {
     "data": {
      "text/plain": [
       "array([[ 1,  2,  3,  4,  5],\n",
       "       [ 6,  7,  8,  9, 10],\n",
       "       [11, 12, 13, 14, 15]])"
      ]
     },
     "execution_count": 71,
     "metadata": {},
     "output_type": "execute_result"
    }
   ],
   "source": [
    "arr1[: , :]"
   ]
  },
  {
   "cell_type": "code",
   "execution_count": 73,
   "id": "3a444f22-deda-46f7-bf1e-426f12914973",
   "metadata": {},
   "outputs": [
    {
     "data": {
      "text/plain": [
       "array([[1, 2],\n",
       "       [6, 7]])"
      ]
     },
     "execution_count": 73,
     "metadata": {},
     "output_type": "execute_result"
    }
   ],
   "source": [
    "arr1[0:2,0:2]"
   ]
  },
  {
   "cell_type": "code",
   "execution_count": 75,
   "id": "c0fdac45-9be6-483a-8f93-95873dcbb28f",
   "metadata": {},
   "outputs": [
    {
     "data": {
      "text/plain": [
       "array([[ 9, 10],\n",
       "       [14, 15]])"
      ]
     },
     "execution_count": 75,
     "metadata": {},
     "output_type": "execute_result"
    }
   ],
   "source": [
    "arr1[1: ,3: ]"
   ]
  },
  {
   "cell_type": "code",
   "execution_count": 77,
   "id": "c313b0d1-3c97-408c-914e-139c8c800bc8",
   "metadata": {},
   "outputs": [
    {
     "data": {
      "text/plain": [
       "array([[ 8,  9],\n",
       "       [13, 14]])"
      ]
     },
     "execution_count": 77,
     "metadata": {},
     "output_type": "execute_result"
    }
   ],
   "source": [
    "arr1[1: ,2:4]"
   ]
  },
  {
   "cell_type": "code",
   "execution_count": 79,
   "id": "932d99e3-2530-4d2b-8c40-ddaee91f8d62",
   "metadata": {},
   "outputs": [],
   "source": [
    "arr2 = np.array([[1,2,3,4,5] , [2,3,4,5,6] , [9,7,6,8,9]])"
   ]
  },
  {
   "cell_type": "code",
   "execution_count": 81,
   "id": "a4a09b83-c1f2-4f4a-b0b9-932ef1bd19b2",
   "metadata": {},
   "outputs": [
    {
     "data": {
      "text/plain": [
       "array([[1, 2, 3, 4, 5],\n",
       "       [2, 3, 4, 5, 6],\n",
       "       [9, 7, 6, 8, 9]])"
      ]
     },
     "execution_count": 81,
     "metadata": {},
     "output_type": "execute_result"
    }
   ],
   "source": [
    "arr2"
   ]
  },
  {
   "cell_type": "code",
   "execution_count": 83,
   "id": "02358082-47fe-4e81-b9a9-681f30c2e0bc",
   "metadata": {},
   "outputs": [
    {
     "data": {
      "text/plain": [
       "array([[5, 6],\n",
       "       [8, 9]])"
      ]
     },
     "execution_count": 83,
     "metadata": {},
     "output_type": "execute_result"
    }
   ],
   "source": [
    "arr2[1: ,3: ]"
   ]
  },
  {
   "cell_type": "code",
   "execution_count": 85,
   "id": "e1665ed3-2634-4828-a272-e985a67d7edd",
   "metadata": {},
   "outputs": [
    {
     "data": {
      "text/plain": [
       "array([[4, 5],\n",
       "       [6, 8]])"
      ]
     },
     "execution_count": 85,
     "metadata": {},
     "output_type": "execute_result"
    }
   ],
   "source": [
    "arr2[1: ,2:4]"
   ]
  },
  {
   "cell_type": "code",
   "execution_count": 91,
   "id": "34597173-aeba-44a8-ab55-680e7c1a5451",
   "metadata": {},
   "outputs": [
    {
     "data": {
      "text/plain": [
       "array([[3, 4, 5]])"
      ]
     },
     "execution_count": 91,
     "metadata": {},
     "output_type": "execute_result"
    }
   ],
   "source": [
    "arr2[1:2,1:4]"
   ]
  },
  {
   "cell_type": "code",
   "execution_count": 93,
   "id": "b5c66f7f-d60d-4d37-b410-56bc069157e5",
   "metadata": {},
   "outputs": [],
   "source": [
    "# Arange Function"
   ]
  },
  {
   "cell_type": "code",
   "execution_count": 97,
   "id": "2b43a4d9-bc2a-4f06-864a-4c875d63759c",
   "metadata": {},
   "outputs": [],
   "source": [
    "arr = np.arange(0,10)"
   ]
  },
  {
   "cell_type": "code",
   "execution_count": 99,
   "id": "cb862f6c-1cea-47cf-ac73-e1576c6f2247",
   "metadata": {},
   "outputs": [
    {
     "data": {
      "text/plain": [
       "array([0, 1, 2, 3, 4, 5, 6, 7, 8, 9])"
      ]
     },
     "execution_count": 99,
     "metadata": {},
     "output_type": "execute_result"
    }
   ],
   "source": [
    "arr"
   ]
  },
  {
   "cell_type": "code",
   "execution_count": 101,
   "id": "790ddb63-f288-4135-8b1d-8b7b1f357d16",
   "metadata": {},
   "outputs": [],
   "source": [
    "arr = np.arange(0,15,step =2)"
   ]
  },
  {
   "cell_type": "code",
   "execution_count": 103,
   "id": "4b341743-475e-47dd-9d19-9884c26151e2",
   "metadata": {},
   "outputs": [
    {
     "data": {
      "text/plain": [
       "array([ 0,  2,  4,  6,  8, 10, 12, 14])"
      ]
     },
     "execution_count": 103,
     "metadata": {},
     "output_type": "execute_result"
    }
   ],
   "source": [
    "arr"
   ]
  },
  {
   "cell_type": "code",
   "execution_count": 107,
   "id": "613ba0b0-0dfa-42a6-ac0f-3601526ed9d4",
   "metadata": {},
   "outputs": [],
   "source": [
    "# linspace \n",
    "# Syntax np.linspace([start , stop, num==no ])"
   ]
  },
  {
   "cell_type": "code",
   "execution_count": 111,
   "id": "1b45a247-9614-4a77-92d8-314e0ab88a18",
   "metadata": {},
   "outputs": [
    {
     "data": {
      "text/plain": [
       "array([ 1.        ,  1.18367347,  1.36734694,  1.55102041,  1.73469388,\n",
       "        1.91836735,  2.10204082,  2.28571429,  2.46938776,  2.65306122,\n",
       "        2.83673469,  3.02040816,  3.20408163,  3.3877551 ,  3.57142857,\n",
       "        3.75510204,  3.93877551,  4.12244898,  4.30612245,  4.48979592,\n",
       "        4.67346939,  4.85714286,  5.04081633,  5.2244898 ,  5.40816327,\n",
       "        5.59183673,  5.7755102 ,  5.95918367,  6.14285714,  6.32653061,\n",
       "        6.51020408,  6.69387755,  6.87755102,  7.06122449,  7.24489796,\n",
       "        7.42857143,  7.6122449 ,  7.79591837,  7.97959184,  8.16326531,\n",
       "        8.34693878,  8.53061224,  8.71428571,  8.89795918,  9.08163265,\n",
       "        9.26530612,  9.44897959,  9.63265306,  9.81632653, 10.        ])"
      ]
     },
     "execution_count": 111,
     "metadata": {},
     "output_type": "execute_result"
    }
   ],
   "source": [
    "np.linspace(1,10,50)"
   ]
  },
  {
   "cell_type": "code",
   "execution_count": 113,
   "id": "dc6c41f1-197f-483f-8a49-4c9793708d5d",
   "metadata": {},
   "outputs": [],
   "source": [
    "# Copy function & Broad Casting"
   ]
  },
  {
   "cell_type": "code",
   "execution_count": 117,
   "id": "3640ed64-2788-49d0-a53c-d1deb027071b",
   "metadata": {},
   "outputs": [],
   "source": [
    "arr = np.arange(0,10)"
   ]
  },
  {
   "cell_type": "code",
   "execution_count": 119,
   "id": "efea73b1-0490-4b42-9866-b060603252bc",
   "metadata": {},
   "outputs": [
    {
     "data": {
      "text/plain": [
       "array([0, 1, 2, 3, 4, 5, 6, 7, 8, 9])"
      ]
     },
     "execution_count": 119,
     "metadata": {},
     "output_type": "execute_result"
    }
   ],
   "source": [
    "arr"
   ]
  },
  {
   "cell_type": "code",
   "execution_count": 123,
   "id": "bfa733b0-be4f-41ed-b77f-e0efdbf15db4",
   "metadata": {},
   "outputs": [],
   "source": [
    "arr[3:] = 100"
   ]
  },
  {
   "cell_type": "code",
   "execution_count": 125,
   "id": "f132556d-860d-4b25-82f5-d8489ea22082",
   "metadata": {},
   "outputs": [
    {
     "data": {
      "text/plain": [
       "array([  0,   1,   2, 100, 100, 100, 100, 100, 100, 100])"
      ]
     },
     "execution_count": 125,
     "metadata": {},
     "output_type": "execute_result"
    }
   ],
   "source": [
    "arr"
   ]
  },
  {
   "cell_type": "code",
   "execution_count": 127,
   "id": "46e0840d-93c8-421a-8d88-cf63fc68b3d9",
   "metadata": {},
   "outputs": [],
   "source": [
    "arr1 = arr"
   ]
  },
  {
   "cell_type": "code",
   "execution_count": 129,
   "id": "2941a658-2ba9-4377-b651-d07732011057",
   "metadata": {},
   "outputs": [
    {
     "data": {
      "text/plain": [
       "array([  0,   1,   2, 100, 100, 100, 100, 100, 100, 100])"
      ]
     },
     "execution_count": 129,
     "metadata": {},
     "output_type": "execute_result"
    }
   ],
   "source": [
    "arr1"
   ]
  },
  {
   "cell_type": "code",
   "execution_count": 131,
   "id": "e0afc5d5-0bfc-44dc-b440-82d392c112ed",
   "metadata": {},
   "outputs": [],
   "source": [
    "arr1[3: ] = 500"
   ]
  },
  {
   "cell_type": "code",
   "execution_count": 135,
   "id": "51c0f345-ff7f-49c4-8f97-eb3fd8c8910c",
   "metadata": {},
   "outputs": [
    {
     "data": {
      "text/plain": [
       "array([  0,   1,   2, 500, 500, 500, 500, 500, 500, 500])"
      ]
     },
     "execution_count": 135,
     "metadata": {},
     "output_type": "execute_result"
    }
   ],
   "source": [
    "arr1"
   ]
  },
  {
   "cell_type": "code",
   "execution_count": 137,
   "id": "306b39af-cea8-472d-bf70-da2a29db1288",
   "metadata": {},
   "outputs": [],
   "source": [
    "arr1 = arr.copy()"
   ]
  },
  {
   "cell_type": "code",
   "execution_count": 139,
   "id": "23765a38-9883-4ef6-968e-6b9fac644a4d",
   "metadata": {},
   "outputs": [
    {
     "data": {
      "text/plain": [
       "array([  0,   1,   2, 500, 500, 500, 500, 500, 500, 500])"
      ]
     },
     "execution_count": 139,
     "metadata": {},
     "output_type": "execute_result"
    }
   ],
   "source": [
    "arr1"
   ]
  },
  {
   "cell_type": "code",
   "execution_count": 141,
   "id": "5635dd87-ec06-456b-800a-8a0d38f17856",
   "metadata": {},
   "outputs": [
    {
     "data": {
      "text/plain": [
       "array([  0,   1,   2, 500, 500, 500, 500, 500, 500, 500])"
      ]
     },
     "execution_count": 141,
     "metadata": {},
     "output_type": "execute_result"
    }
   ],
   "source": [
    "arr"
   ]
  },
  {
   "cell_type": "code",
   "execution_count": 143,
   "id": "67fced2b-ad80-4e42-b798-97f2952af732",
   "metadata": {},
   "outputs": [
    {
     "name": "stdout",
     "output_type": "stream",
     "text": [
      "[  0   1   2 500 500 500 500 500 500 500]\n"
     ]
    }
   ],
   "source": [
    "print(arr)"
   ]
  },
  {
   "cell_type": "code",
   "execution_count": 145,
   "id": "d90629a5-5612-404d-ba07-4f8d97eef808",
   "metadata": {},
   "outputs": [],
   "source": [
    "arr1[3: ] =1000"
   ]
  },
  {
   "cell_type": "code",
   "execution_count": 147,
   "id": "f2f303e3-4c7a-4213-b242-ca80de5ad598",
   "metadata": {},
   "outputs": [
    {
     "name": "stdout",
     "output_type": "stream",
     "text": [
      "[   0    1    2 1000 1000 1000 1000 1000 1000 1000]\n"
     ]
    }
   ],
   "source": [
    "print(arr1)"
   ]
  },
  {
   "cell_type": "code",
   "execution_count": 149,
   "id": "a9d6451d-0a14-4419-b83c-b5204e8cded0",
   "metadata": {},
   "outputs": [
    {
     "data": {
      "text/plain": [
       "array([  0,   1,   2, 500, 500, 500, 500, 500, 500, 500])"
      ]
     },
     "execution_count": 149,
     "metadata": {},
     "output_type": "execute_result"
    }
   ],
   "source": [
    "arr"
   ]
  },
  {
   "cell_type": "code",
   "execution_count": 151,
   "id": "2cd0a6c3-c1eb-488a-b020-fe0516c4e8c6",
   "metadata": {},
   "outputs": [],
   "source": [
    "# Conditions useful in Exploratory Data Analysis"
   ]
  },
  {
   "cell_type": "code",
   "execution_count": 153,
   "id": "7e8855bd-b5dd-456e-9021-4997d80576c2",
   "metadata": {},
   "outputs": [
    {
     "data": {
      "text/plain": [
       "array([ True,  True, False, False, False, False, False, False, False,\n",
       "       False])"
      ]
     },
     "execution_count": 153,
     "metadata": {},
     "output_type": "execute_result"
    }
   ],
   "source": [
    "arr<2"
   ]
  },
  {
   "cell_type": "code",
   "execution_count": 155,
   "id": "6df77eb5-4df7-4d0a-bd81-500c04f36375",
   "metadata": {},
   "outputs": [
    {
     "data": {
      "text/plain": [
       "array([0, 1])"
      ]
     },
     "execution_count": 155,
     "metadata": {},
     "output_type": "execute_result"
    }
   ],
   "source": [
    "arr[arr<2]"
   ]
  },
  {
   "cell_type": "code",
   "execution_count": 157,
   "id": "ea7f6070-e27d-48f4-b273-0fbc291c806c",
   "metadata": {},
   "outputs": [
    {
     "data": {
      "text/plain": [
       "array([   0,    2,    4, 1000, 1000, 1000, 1000, 1000, 1000, 1000])"
      ]
     },
     "execution_count": 157,
     "metadata": {},
     "output_type": "execute_result"
    }
   ],
   "source": [
    "arr*2"
   ]
  },
  {
   "cell_type": "code",
   "execution_count": 159,
   "id": "ed8f0d8e-f5fe-4d91-b0c1-c31b9b7c37de",
   "metadata": {},
   "outputs": [
    {
     "data": {
      "text/plain": [
       "array([  0,   1,   2, 500, 500, 500, 500, 500, 500, 500])"
      ]
     },
     "execution_count": 159,
     "metadata": {},
     "output_type": "execute_result"
    }
   ],
   "source": [
    "arr"
   ]
  },
  {
   "cell_type": "code",
   "execution_count": 161,
   "id": "a56df18f-442a-4ac5-bc54-90bacc503c25",
   "metadata": {},
   "outputs": [
    {
     "data": {
      "text/plain": [
       "array([0, 1, 0, 0, 0, 0, 0, 0, 0, 0], dtype=int32)"
      ]
     },
     "execution_count": 161,
     "metadata": {},
     "output_type": "execute_result"
    }
   ],
   "source": [
    "arr%2"
   ]
  },
  {
   "cell_type": "code",
   "execution_count": 163,
   "id": "281bd796-0168-4655-84d0-d792edf36950",
   "metadata": {},
   "outputs": [
    {
     "data": {
      "text/plain": [
       "array([0, 1, 2, 2, 2, 2, 2, 2, 2, 2], dtype=int32)"
      ]
     },
     "execution_count": 163,
     "metadata": {},
     "output_type": "execute_result"
    }
   ],
   "source": [
    "arr%3"
   ]
  },
  {
   "cell_type": "code",
   "execution_count": 165,
   "id": "9a6c80e2-1dcb-4203-b733-1eb6c9836a30",
   "metadata": {},
   "outputs": [
    {
     "data": {
      "text/plain": [
       "array([  0. ,   0.5,   1. , 250. , 250. , 250. , 250. , 250. , 250. ,\n",
       "       250. ])"
      ]
     },
     "execution_count": 165,
     "metadata": {},
     "output_type": "execute_result"
    }
   ],
   "source": [
    "arr/2"
   ]
  },
  {
   "cell_type": "code",
   "execution_count": 167,
   "id": "cc2682a7-57d1-462e-9957-c8de36133ff0",
   "metadata": {},
   "outputs": [
    {
     "data": {
      "text/plain": [
       "array([     0,      1,      4, 250000, 250000, 250000, 250000, 250000,\n",
       "       250000, 250000])"
      ]
     },
     "execution_count": 167,
     "metadata": {},
     "output_type": "execute_result"
    }
   ],
   "source": [
    "arr**2"
   ]
  },
  {
   "cell_type": "code",
   "execution_count": 169,
   "id": "2f83a79a-d4b3-4160-a34e-987866dc237f",
   "metadata": {},
   "outputs": [],
   "source": [
    "# Creating Array & Reshape"
   ]
  },
  {
   "cell_type": "code",
   "execution_count": 171,
   "id": "91a8a411-dea7-425b-b396-5ad57eafea8c",
   "metadata": {},
   "outputs": [
    {
     "data": {
      "text/plain": [
       "array([[0, 1],\n",
       "       [2, 3],\n",
       "       [4, 5],\n",
       "       [6, 7],\n",
       "       [8, 9]])"
      ]
     },
     "execution_count": 171,
     "metadata": {},
     "output_type": "execute_result"
    }
   ],
   "source": [
    "np.arange(0,10).reshape(5,2)"
   ]
  },
  {
   "cell_type": "code",
   "execution_count": 173,
   "id": "6524876d-d977-431f-8852-a320eddf08fb",
   "metadata": {},
   "outputs": [],
   "source": [
    "arr1 = np.arange(0,10).reshape(2,5)"
   ]
  },
  {
   "cell_type": "code",
   "execution_count": 181,
   "id": "e983f726-b2e3-40ed-a889-0e88c053763a",
   "metadata": {},
   "outputs": [
    {
     "data": {
      "text/plain": [
       "array([[0, 1, 2, 3, 4],\n",
       "       [5, 6, 7, 8, 9]])"
      ]
     },
     "execution_count": 181,
     "metadata": {},
     "output_type": "execute_result"
    }
   ],
   "source": [
    "arr1"
   ]
  },
  {
   "cell_type": "code",
   "execution_count": 175,
   "id": "b54f2fe2-fd82-4478-996e-3845ad103cc8",
   "metadata": {},
   "outputs": [],
   "source": [
    "arr2 = np.arange(0,10).reshape(2,5)"
   ]
  },
  {
   "cell_type": "code",
   "execution_count": 179,
   "id": "f2f9f0f3-d2a4-4e78-a34b-970c23c4b6e7",
   "metadata": {},
   "outputs": [
    {
     "data": {
      "text/plain": [
       "array([[0, 1, 2, 3, 4],\n",
       "       [5, 6, 7, 8, 9]])"
      ]
     },
     "execution_count": 179,
     "metadata": {},
     "output_type": "execute_result"
    }
   ],
   "source": [
    "arr2"
   ]
  },
  {
   "cell_type": "code",
   "execution_count": 177,
   "id": "0c941029-2016-45cc-820c-97db76fdba13",
   "metadata": {},
   "outputs": [
    {
     "data": {
      "text/plain": [
       "array([[ 0,  1,  4,  9, 16],\n",
       "       [25, 36, 49, 64, 81]])"
      ]
     },
     "execution_count": 177,
     "metadata": {},
     "output_type": "execute_result"
    }
   ],
   "source": [
    "arr1*arr2"
   ]
  },
  {
   "cell_type": "code",
   "execution_count": 183,
   "id": "1aa69dfb-a369-4b47-8d6c-213ddce65657",
   "metadata": {},
   "outputs": [],
   "source": [
    "# .ones -- elements replace by 1's\n",
    "# Syntax -- np.ones(shape, dtype = none)"
   ]
  },
  {
   "cell_type": "code",
   "execution_count": 185,
   "id": "b61aaa8b-7f3e-4d80-9971-4825f8942fc5",
   "metadata": {},
   "outputs": [
    {
     "data": {
      "text/plain": [
       "array([1., 1., 1., 1.])"
      ]
     },
     "execution_count": 185,
     "metadata": {},
     "output_type": "execute_result"
    }
   ],
   "source": [
    "np.ones(4)"
   ]
  },
  {
   "cell_type": "code",
   "execution_count": 187,
   "id": "896ee715-a972-4a46-8697-23dda531867f",
   "metadata": {},
   "outputs": [
    {
     "data": {
      "text/plain": [
       "array([1, 1, 1, 1])"
      ]
     },
     "execution_count": 187,
     "metadata": {},
     "output_type": "execute_result"
    }
   ],
   "source": [
    "np.ones(4, dtype = int)"
   ]
  },
  {
   "cell_type": "code",
   "execution_count": 191,
   "id": "06121635-1858-4b2b-b2fc-6ff785cf2274",
   "metadata": {},
   "outputs": [
    {
     "data": {
      "text/plain": [
       "array([[1., 1., 1., 1., 1.],\n",
       "       [1., 1., 1., 1., 1.]])"
      ]
     },
     "execution_count": 191,
     "metadata": {},
     "output_type": "execute_result"
    }
   ],
   "source": [
    "np.ones((2,5), dtype = float)"
   ]
  },
  {
   "cell_type": "code",
   "execution_count": 193,
   "id": "d3ce7ee5-dd2d-42b9-b292-e208358a6855",
   "metadata": {},
   "outputs": [],
   "source": [
    "# Random Distribution -- It takes between 0 to 1"
   ]
  },
  {
   "cell_type": "code",
   "execution_count": 195,
   "id": "a35dc323-147c-426b-a09a-ae41677523cc",
   "metadata": {},
   "outputs": [
    {
     "data": {
      "text/plain": [
       "array([[0.7127313 , 0.07155202, 0.72821807],\n",
       "       [0.36472251, 0.39476196, 0.35645242],\n",
       "       [0.60865624, 0.41483884, 0.03897905]])"
      ]
     },
     "execution_count": 195,
     "metadata": {},
     "output_type": "execute_result"
    }
   ],
   "source": [
    "np.random.rand(3,3)"
   ]
  },
  {
   "cell_type": "code",
   "execution_count": 197,
   "id": "f51caa93-a03a-4723-806b-65f0df87600a",
   "metadata": {},
   "outputs": [
    {
     "data": {
      "text/plain": [
       "array([[0.5374423 , 0.91535556, 0.16497964, 0.48797453, 0.87977632],\n",
       "       [0.79254228, 0.15447878, 0.88663581, 0.3850435 , 0.75084403],\n",
       "       [0.06009345, 0.88933874, 0.31513777, 0.33878479, 0.86830361],\n",
       "       [0.79328032, 0.58398028, 0.85640218, 0.98167496, 0.59152296]])"
      ]
     },
     "execution_count": 197,
     "metadata": {},
     "output_type": "execute_result"
    }
   ],
   "source": [
    "np.random.rand(4,5)"
   ]
  },
  {
   "cell_type": "code",
   "execution_count": 199,
   "id": "636eadb7-95cc-4b81-a28a-32663568b077",
   "metadata": {},
   "outputs": [],
   "source": [
    "#randn"
   ]
  },
  {
   "cell_type": "code",
   "execution_count": 201,
   "id": "f0ed348a-d69a-4a56-9064-24154a8cfdc5",
   "metadata": {},
   "outputs": [],
   "source": [
    "arr_ex = np.random.randn(4,4)"
   ]
  },
  {
   "cell_type": "code",
   "execution_count": 203,
   "id": "f08e0685-57b1-4013-8b26-ae989d95ab27",
   "metadata": {},
   "outputs": [
    {
     "data": {
      "text/plain": [
       "array([[-1.06625814,  0.10188687,  1.12408085, -0.21311226],\n",
       "       [ 0.34262634, -1.09661787,  0.17263175, -0.05198193],\n",
       "       [-1.51369374, -0.17453259,  0.12997   ,  0.44564571],\n",
       "       [-0.51452774,  1.01204537, -0.53119939,  1.0864551 ]])"
      ]
     },
     "execution_count": 203,
     "metadata": {},
     "output_type": "execute_result"
    }
   ],
   "source": [
    "arr_ex"
   ]
  },
  {
   "cell_type": "code",
   "execution_count": 205,
   "id": "d769d452-e25a-4d0d-a1d7-24d9572109f1",
   "metadata": {},
   "outputs": [],
   "source": [
    "# randint"
   ]
  },
  {
   "cell_type": "code",
   "execution_count": 207,
   "id": "f7ea25df-57f2-4584-98c6-e925d61e290b",
   "metadata": {},
   "outputs": [
    {
     "data": {
      "text/plain": [
       "array([[80, 60],\n",
       "       [15, 24],\n",
       "       [58, 77],\n",
       "       [75, 31]])"
      ]
     },
     "execution_count": 207,
     "metadata": {},
     "output_type": "execute_result"
    }
   ],
   "source": [
    "np.random.randint(0,100,8).reshape(4,2)"
   ]
  },
  {
   "cell_type": "code",
   "execution_count": 209,
   "id": "42a4e81b-233e-40a0-9721-2c896b8ccc6b",
   "metadata": {},
   "outputs": [
    {
     "data": {
      "text/plain": [
       "array([325, 622, 955,   1, 893, 983, 403, 249])"
      ]
     },
     "execution_count": 209,
     "metadata": {},
     "output_type": "execute_result"
    }
   ],
   "source": [
    "np.random.randint(0,1250,8)"
   ]
  },
  {
   "cell_type": "code",
   "execution_count": 211,
   "id": "f98f0c9f-6efc-4cf3-9676-9ba59d5378ac",
   "metadata": {},
   "outputs": [],
   "source": [
    "# random_sample"
   ]
  },
  {
   "cell_type": "code",
   "execution_count": 217,
   "id": "2c9b90f4-54e1-4758-a325-8540b8577ef0",
   "metadata": {},
   "outputs": [
    {
     "data": {
      "text/plain": [
       "array([[0.8716009 , 0.81195312, 0.43239427, 0.41031421, 0.5992427 ,\n",
       "        0.79629935, 0.03893224, 0.18071183, 0.51984421, 0.43819002,\n",
       "        0.17084122, 0.72112563, 0.80154863, 0.12099282, 0.97314955]])"
      ]
     },
     "execution_count": 217,
     "metadata": {},
     "output_type": "execute_result"
    }
   ],
   "source": [
    "np.random.random_sample((1,15))"
   ]
  },
  {
   "cell_type": "code",
   "execution_count": null,
   "id": "7b5b2da0-d016-4aad-9222-e4dd1c17c787",
   "metadata": {},
   "outputs": [],
   "source": []
  }
 ],
 "metadata": {
  "kernelspec": {
   "display_name": "Python 3 (ipykernel)",
   "language": "python",
   "name": "python3"
  },
  "language_info": {
   "codemirror_mode": {
    "name": "ipython",
    "version": 3
   },
   "file_extension": ".py",
   "mimetype": "text/x-python",
   "name": "python",
   "nbconvert_exporter": "python",
   "pygments_lexer": "ipython3",
   "version": "3.11.7"
  }
 },
 "nbformat": 4,
 "nbformat_minor": 5
}

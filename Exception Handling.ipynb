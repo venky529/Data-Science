{
 "cells": [
  {
   "cell_type": "markdown",
   "id": "5d1250f8-0850-421d-8421-ba68c7c5785d",
   "metadata": {},
   "source": [
    "### Exception Handling"
   ]
  },
  {
   "cell_type": "code",
   "execution_count": 8,
   "id": "4d38e450-7cb5-47ff-ad6f-c8c2a5273c47",
   "metadata": {},
   "outputs": [
    {
     "name": "stdout",
     "output_type": "stream",
     "text": [
      "name 'b' is not defined\n"
     ]
    }
   ],
   "source": [
    "try:\n",
    "    ## code block where exception mat occur\n",
    "    a=b\n",
    "except NameError as ne:\n",
    "    print(\"The user have not defined the variable\")\n",
    "except Exception as ex:\n",
    "    print(ex)"
   ]
  },
  {
   "cell_type": "code",
   "execution_count": 10,
   "id": "84f59b54-5e47-4f82-a400-7656614880e5",
   "metadata": {},
   "outputs": [
    {
     "ename": "NameError",
     "evalue": "name 'b' is not defined",
     "output_type": "error",
     "traceback": [
      "\u001b[1;31m---------------------------------------------------------------------------\u001b[0m",
      "\u001b[1;31mNameError\u001b[0m                                 Traceback (most recent call last)",
      "Cell \u001b[1;32mIn[10], line 1\u001b[0m\n\u001b[1;32m----> 1\u001b[0m a\u001b[38;5;241m=\u001b[39mb\n",
      "\u001b[1;31mNameError\u001b[0m: name 'b' is not defined"
     ]
    }
   ],
   "source": [
    "a=b"
   ]
  },
  {
   "cell_type": "code",
   "execution_count": 12,
   "id": "ec6558a2-6ecc-49fc-a35a-7905f8c37163",
   "metadata": {},
   "outputs": [
    {
     "name": "stdout",
     "output_type": "stream",
     "text": [
      "Try to make the datatype similar\n"
     ]
    }
   ],
   "source": [
    "try:\n",
    "    ## code block where exception mat occur\n",
    "    a=1\n",
    "    b=\"v\"\n",
    "    c=a+b\n",
    "except NameError as ne:\n",
    "    print(\"The user have not defined the variable\")\n",
    "except TypeError:\n",
    "    print(\"Try to make the datatype similar\")\n",
    "except Exception as ex:\n",
    "    print(ex)"
   ]
  },
  {
   "cell_type": "code",
   "execution_count": 16,
   "id": "5626eb0d-f5e7-4035-9882-be303fbdeded",
   "metadata": {},
   "outputs": [
    {
     "name": "stdin",
     "output_type": "stream",
     "text": [
      "Enter the no 1 12\n",
      "Enter the no 2 4\n"
     ]
    },
    {
     "name": "stdout",
     "output_type": "stream",
     "text": [
      "3.0\n",
      "48\n",
      "16\n"
     ]
    }
   ],
   "source": [
    "try:\n",
    "    ## code block where exception mat occur\n",
    "    a=int(input(\"Enter the no 1\"))\n",
    "    b=int(input(\"Enter the no 2\"))\n",
    "    c=a/b  \n",
    "    d=a*b\n",
    "    e=a+b\n",
    "    print(c)\n",
    "    print(d)\n",
    "    print(e)\n",
    "except NameError as ne:\n",
    "    print(\"The user have not defined the variable\")\n",
    "except TypeError:\n",
    "    print(\"Try to make the datatype similar\")\n",
    "except Exception as ex:\n",
    "    print(ex)"
   ]
  },
  {
   "cell_type": "code",
   "execution_count": 18,
   "id": "8fd133b5-7604-49b2-b7f0-9a9d7c2ed382",
   "metadata": {},
   "outputs": [
    {
     "name": "stdin",
     "output_type": "stream",
     "text": [
      "Enter the no 1 12\n",
      "Enter the no 2 0\n"
     ]
    },
    {
     "name": "stdout",
     "output_type": "stream",
     "text": [
      "division by zero\n"
     ]
    }
   ],
   "source": [
    "try:\n",
    "    ## code block where exception mat occur\n",
    "    a=int(input(\"Enter the no 1\"))\n",
    "    b=int(input(\"Enter the no 2\"))\n",
    "    c=a/b  \n",
    "    d=a*b\n",
    "    e=a+b\n",
    "    print(c)\n",
    "    print(d)\n",
    "    print(e)\n",
    "except NameError as ne:\n",
    "    print(\"The user have not defined the variable\")\n",
    "except TypeError:\n",
    "    print(\"Try to make the datatype similar\")\n",
    "except Exception as ex:\n",
    "    print(ex)"
   ]
  },
  {
   "cell_type": "code",
   "execution_count": 24,
   "id": "f8392539-a939-49f7-bc34-5b401cea0dc4",
   "metadata": {},
   "outputs": [
    {
     "name": "stdin",
     "output_type": "stream",
     "text": [
      "Enter the no 1 12\n",
      "Enter the no 2 0\n"
     ]
    },
    {
     "name": "stdout",
     "output_type": "stream",
     "text": [
      "Please provide number greater than 0\n"
     ]
    }
   ],
   "source": [
    "try:\n",
    "    ## code block where exception mat occur\n",
    "    a=int(input(\"Enter the no 1\"))\n",
    "    b=int(input(\"Enter the no 2\"))\n",
    "    c=a/b  \n",
    "    d=a*b\n",
    "    e=a+b\n",
    "    print(c)\n",
    "    print(d)\n",
    "    print(e)\n",
    "except NameError as ne:\n",
    "    print(\"The user have not defined the variable\")\n",
    "except ZeroDivisionError:\n",
    "    print(\"Please provide number greater than 0\")\n",
    "except TypeError:\n",
    "    print(\"Try to make the datatype similar\")\n",
    "except Exception as ex:\n",
    "    print(ex)"
   ]
  },
  {
   "cell_type": "code",
   "execution_count": 39,
   "id": "857140a4-974c-4fe9-8672-358596e229fa",
   "metadata": {},
   "outputs": [
    {
     "name": "stdin",
     "output_type": "stream",
     "text": [
      "Enter the no 1: 12\n",
      "Enter the no 2: 4\n"
     ]
    },
    {
     "name": "stdout",
     "output_type": "stream",
     "text": [
      "3.0\n",
      "48\n",
      "16\n"
     ]
    }
   ],
   "source": [
    "# Try Else block in exception\n",
    "\n",
    "try:\n",
    "    ## code block where exception mat occur\n",
    "    a=int(input(\"Enter the no 1:\"))\n",
    "    b=int(input(\"Enter the no 2:\"))\n",
    "    \n",
    "    c=a/b  \n",
    "    d=a*b\n",
    "    e=a+b\n",
    "    \n",
    "except NameError as ne:\n",
    "    print(\"The user have not defined the variable\")\n",
    "except ZeroDivisionError:\n",
    "    print(\"Please provide number greater than 0\")\n",
    "except TypeError:\n",
    "    print(\"Try to make the datatype similar\")\n",
    "except Exception as ex:\n",
    "    print(ex)\n",
    "else:\n",
    "    print(c)\n",
    "    print(d)\n",
    "    print(e)\n"
   ]
  },
  {
   "cell_type": "code",
   "execution_count": 35,
   "id": "138a05bb-f26a-4de5-9bd4-287ffeab640d",
   "metadata": {},
   "outputs": [
    {
     "name": "stdin",
     "output_type": "stream",
     "text": [
      "Enter the no 1: 12\n",
      "Enter the no 2: 4\n"
     ]
    },
    {
     "name": "stdout",
     "output_type": "stream",
     "text": [
      "3.0\n",
      "The execution is Done\n"
     ]
    }
   ],
   "source": [
    "# Try Else Finally\n",
    "\n",
    "# Try Else block in exception\n",
    "\n",
    "try:\n",
    "    ## code block where exception mat occur\n",
    "    a=int(input(\"Enter the no 1:\"))\n",
    "    b=int(input(\"Enter the no 2:\"))\n",
    "    \n",
    "    c=a/b  \n",
    "    \n",
    "    \n",
    "except NameError as ne:\n",
    "    print(\"The user have not defined the variable\")\n",
    "except ZeroDivisionError:\n",
    "    print(\"Please provide number greater than 0\")\n",
    "except TypeError:\n",
    "    print(\"Try to make the datatype similar\")\n",
    "except Exception as ex:\n",
    "    print(ex)\n",
    "else:\n",
    "    print(c)\n",
    "\n",
    "finally:\n",
    "    print(\"The execution is Done\")"
   ]
  },
  {
   "cell_type": "markdown",
   "id": "3868df19-f8ff-4926-96a9-335fefa2d9c2",
   "metadata": {},
   "source": [
    "### Custom Exception "
   ]
  },
  {
   "cell_type": "code",
   "execution_count": 70,
   "id": "4a826933-f9e0-49bb-b202-08b46852669e",
   "metadata": {},
   "outputs": [],
   "source": [
    "class Error(Exception):\n",
    "    pass\n",
    "\n",
    "class dobException(Error):\n",
    "    pass\n",
    "class customgeneric(Error):\n",
    "    pass\n"
   ]
  },
  {
   "cell_type": "code",
   "execution_count": 72,
   "id": "52bdfda7-3cbc-41ed-b63c-d2c878cfed83",
   "metadata": {},
   "outputs": [
    {
     "name": "stdin",
     "output_type": "stream",
     "text": [
      "enter the year of birth: 2000\n"
     ]
    },
    {
     "name": "stdout",
     "output_type": "stream",
     "text": [
      "The age is valid. You can apply for the Openings\n"
     ]
    }
   ],
   "source": [
    "year=int(input(\"enter the year of birth:\"))\n",
    "age=2024-year\n",
    "try:\n",
    "    if age<= 30 & age>20:\n",
    "        print(\"The age is valid. You can apply for the Openings\")\n",
    "    else:\n",
    "        raise dobException\n",
    "except dobException:\n",
    "    print(\"The age is not with in the range. You can not apply for the Opening\")\n",
    "    "
   ]
  },
  {
   "cell_type": "code",
   "execution_count": null,
   "id": "dc1b1a5b-cac5-4859-a5a4-2636e8d6601b",
   "metadata": {},
   "outputs": [],
   "source": []
  }
 ],
 "metadata": {
  "kernelspec": {
   "display_name": "Python 3 (ipykernel)",
   "language": "python",
   "name": "python3"
  },
  "language_info": {
   "codemirror_mode": {
    "name": "ipython",
    "version": 3
   },
   "file_extension": ".py",
   "mimetype": "text/x-python",
   "name": "python",
   "nbconvert_exporter": "python",
   "pygments_lexer": "ipython3",
   "version": "3.12.7"
  }
 },
 "nbformat": 4,
 "nbformat_minor": 5
}

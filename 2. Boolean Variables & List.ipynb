{
 "cells": [
  {
   "cell_type": "markdown",
   "id": "44cb60e7-f80e-4575-b58e-092951e5c360",
   "metadata": {},
   "source": [
    "### python Data Structures and Boolean\n",
    "- Boolean\n",
    "- Logical operators\n",
    "- lists\n",
    "- Comparision Operators"
   ]
  },
  {
   "cell_type": "markdown",
   "id": "34af145d-d01a-43cb-91c0-7739e0708d8c",
   "metadata": {},
   "source": [
    "##### Boolean Variables"
   ]
  },
  {
   "cell_type": "code",
   "execution_count": 18,
   "id": "f8e4902b-ace9-44c3-87b0-6ca43c6ba8e6",
   "metadata": {},
   "outputs": [
    {
     "name": "stdout",
     "output_type": "stream",
     "text": [
      "True False\n"
     ]
    },
    {
     "data": {
      "text/plain": [
       "bool"
      ]
     },
     "execution_count": 18,
     "metadata": {},
     "output_type": "execute_result"
    }
   ],
   "source": [
    "print(True, False)\n",
    "(type(True))"
   ]
  },
  {
   "cell_type": "code",
   "execution_count": 20,
   "id": "30a93270-72c6-40ae-af96-b8e56fb82840",
   "metadata": {},
   "outputs": [
    {
     "name": "stdout",
     "output_type": "stream",
     "text": [
      "<class 'bool'>\n"
     ]
    }
   ],
   "source": [
    "print(type(False))"
   ]
  },
  {
   "cell_type": "code",
   "execution_count": 22,
   "id": "7920455e-d504-4198-a848-11a16c57e766",
   "metadata": {},
   "outputs": [],
   "source": [
    "my_str = \"Venkatesh Madabathula\""
   ]
  },
  {
   "cell_type": "code",
   "execution_count": 32,
   "id": "0155b0ce-6b2f-44ff-8ac5-4e11f22ed38f",
   "metadata": {},
   "outputs": [
    {
     "name": "stdout",
     "output_type": "stream",
     "text": [
      "False\n"
     ]
    }
   ],
   "source": [
    "print(my_str.isalnum())"
   ]
  },
  {
   "cell_type": "code",
   "execution_count": 34,
   "id": "0860532c-42c7-4735-b1ed-d1534744486d",
   "metadata": {},
   "outputs": [
    {
     "name": "stdout",
     "output_type": "stream",
     "text": [
      "False\n"
     ]
    }
   ],
   "source": [
    "print(my_str.isalpha())"
   ]
  },
  {
   "cell_type": "code",
   "execution_count": 36,
   "id": "fb8f5133-41a3-47e5-aa14-558cb13505e0",
   "metadata": {},
   "outputs": [
    {
     "name": "stdout",
     "output_type": "stream",
     "text": [
      "False\n"
     ]
    }
   ],
   "source": [
    "print(my_str.isdigit())"
   ]
  },
  {
   "cell_type": "code",
   "execution_count": 38,
   "id": "9b697f42-584c-4269-a4b8-ac2943483eff",
   "metadata": {},
   "outputs": [
    {
     "name": "stdout",
     "output_type": "stream",
     "text": [
      "True\n"
     ]
    }
   ],
   "source": [
    "print(my_str.istitle())"
   ]
  },
  {
   "cell_type": "code",
   "execution_count": 40,
   "id": "e98f1bf4-4413-4e2c-9ff3-16d64651c2c9",
   "metadata": {},
   "outputs": [
    {
     "name": "stdout",
     "output_type": "stream",
     "text": [
      "False\n"
     ]
    }
   ],
   "source": [
    "print(my_str.isupper())"
   ]
  },
  {
   "cell_type": "code",
   "execution_count": 42,
   "id": "8ec75bac-af39-49f6-877c-fcd27a940301",
   "metadata": {},
   "outputs": [
    {
     "name": "stdout",
     "output_type": "stream",
     "text": [
      "False\n"
     ]
    }
   ],
   "source": [
    "print(my_str.islower())"
   ]
  },
  {
   "cell_type": "code",
   "execution_count": 48,
   "id": "c1e7f3ed-2bf9-4577-b338-2794e3d733a8",
   "metadata": {},
   "outputs": [
    {
     "name": "stdout",
     "output_type": "stream",
     "text": [
      "True\n"
     ]
    }
   ],
   "source": [
    "print(my_str.endswith('a'))"
   ]
  },
  {
   "cell_type": "code",
   "execution_count": 50,
   "id": "41d48b78-31a0-4552-8880-781212d197fe",
   "metadata": {},
   "outputs": [
    {
     "name": "stdout",
     "output_type": "stream",
     "text": [
      "True\n"
     ]
    }
   ],
   "source": [
    "print(my_str.startswith('V'))"
   ]
  },
  {
   "cell_type": "markdown",
   "id": "62a431a7-54de-4221-a869-4feca69b19b6",
   "metadata": {},
   "source": [
    "##### Logical Operators"
   ]
  },
  {
   "cell_type": "code",
   "execution_count": 53,
   "id": "243f60f5-8a12-429f-8fb4-4419d7844f5f",
   "metadata": {},
   "outputs": [],
   "source": [
    "str_example = \"Hello World\"\n",
    "my_str = \"Venkatesh\""
   ]
  },
  {
   "cell_type": "code",
   "execution_count": 65,
   "id": "1d0dc3f8-1e5d-414a-af85-3821acfc8b3c",
   "metadata": {},
   "outputs": [
    {
     "data": {
      "text/plain": [
       "True"
      ]
     },
     "execution_count": 65,
     "metadata": {},
     "output_type": "execute_result"
    }
   ],
   "source": [
    "my_str.startswith('V') or str_example.isalpha()"
   ]
  },
  {
   "cell_type": "code",
   "execution_count": 67,
   "id": "454d09bb-bac1-4995-9a43-10a3adfbef23",
   "metadata": {},
   "outputs": [
    {
     "data": {
      "text/plain": [
       "False"
      ]
     },
     "execution_count": 67,
     "metadata": {},
     "output_type": "execute_result"
    }
   ],
   "source": [
    "my_str.isalpha() or str_example.isalnum()"
   ]
  },
  {
   "cell_type": "markdown",
   "id": "51aecb02-a610-4a59-a057-0f28f9a5be65",
   "metadata": {},
   "source": [
    "### Lists -- mutuable and changable"
   ]
  },
  {
   "cell_type": "code",
   "execution_count": 71,
   "id": "1172367d-1396-4aab-9bf8-ae3fefc119e1",
   "metadata": {},
   "outputs": [
    {
     "data": {
      "text/plain": [
       "list"
      ]
     },
     "execution_count": 71,
     "metadata": {},
     "output_type": "execute_result"
    }
   ],
   "source": [
    "type([])"
   ]
  },
  {
   "cell_type": "code",
   "execution_count": 77,
   "id": "13f2b010-8e40-45d5-ac9d-212ff8854cd4",
   "metadata": {},
   "outputs": [],
   "source": [
    "lst = [\"Mathematics\" , \"chemistrt\" , 100,200,304,400]"
   ]
  },
  {
   "cell_type": "code",
   "execution_count": 79,
   "id": "85852622-5d00-4336-9544-d6428fed4385",
   "metadata": {},
   "outputs": [
    {
     "data": {
      "text/plain": [
       "list"
      ]
     },
     "execution_count": 79,
     "metadata": {},
     "output_type": "execute_result"
    }
   ],
   "source": [
    "type(lst)"
   ]
  },
  {
   "cell_type": "code",
   "execution_count": 81,
   "id": "c764e480-28b6-420e-9832-1837d45a8d93",
   "metadata": {},
   "outputs": [
    {
     "name": "stdout",
     "output_type": "stream",
     "text": [
      "['Mathematics', 'chemistrt', 100, 200, 304, 400]\n"
     ]
    }
   ],
   "source": [
    "print(lst)"
   ]
  },
  {
   "cell_type": "code",
   "execution_count": 83,
   "id": "c9fdc0d8-6502-4202-9369-5c47dc81af93",
   "metadata": {},
   "outputs": [
    {
     "data": {
      "text/plain": [
       "6"
      ]
     },
     "execution_count": 83,
     "metadata": {},
     "output_type": "execute_result"
    }
   ],
   "source": [
    "len(lst)"
   ]
  },
  {
   "cell_type": "code",
   "execution_count": 85,
   "id": "69bb6f3a-0c90-4b08-a25a-939e007d0438",
   "metadata": {},
   "outputs": [],
   "source": [
    "# append -- add more elements to the list"
   ]
  },
  {
   "cell_type": "code",
   "execution_count": 94,
   "id": "26e74fe6-dab6-42e5-8762-348fe70783fb",
   "metadata": {},
   "outputs": [],
   "source": [
    "lst.append ('Science')"
   ]
  },
  {
   "cell_type": "code",
   "execution_count": 96,
   "id": "a0cb4777-02da-4fda-8bf8-ceea1ffab04a",
   "metadata": {},
   "outputs": [
    {
     "name": "stdout",
     "output_type": "stream",
     "text": [
      "['Mathematics', 'chemistrt', 100, 200, 304, 400, 'Science', 'Science']\n"
     ]
    }
   ],
   "source": [
    "print(lst)"
   ]
  },
  {
   "cell_type": "code",
   "execution_count": 98,
   "id": "5585979a-c8e7-44dc-acba-a9efdd7cb0fb",
   "metadata": {},
   "outputs": [],
   "source": [
    "# indexing in list"
   ]
  },
  {
   "cell_type": "code",
   "execution_count": 100,
   "id": "7d650d8e-19de-471a-93a6-ee9000b8bba2",
   "metadata": {},
   "outputs": [
    {
     "data": {
      "text/plain": [
       "200"
      ]
     },
     "execution_count": 100,
     "metadata": {},
     "output_type": "execute_result"
    }
   ],
   "source": [
    "lst[3]"
   ]
  },
  {
   "cell_type": "code",
   "execution_count": 102,
   "id": "136507c3-94f5-4bef-b226-58ea71d35b84",
   "metadata": {},
   "outputs": [
    {
     "data": {
      "text/plain": [
       "'Science'"
      ]
     },
     "execution_count": 102,
     "metadata": {},
     "output_type": "execute_result"
    }
   ],
   "source": [
    "lst[6]"
   ]
  },
  {
   "cell_type": "code",
   "execution_count": 104,
   "id": "74513f7b-71c0-418c-9395-ef50b988de73",
   "metadata": {},
   "outputs": [
    {
     "data": {
      "text/plain": [
       "['Mathematics', 'chemistrt', 100, 200, 304, 400, 'Science', 'Science']"
      ]
     },
     "execution_count": 104,
     "metadata": {},
     "output_type": "execute_result"
    }
   ],
   "source": [
    "lst[ : ]"
   ]
  },
  {
   "cell_type": "code",
   "execution_count": 106,
   "id": "df4e0f77-098a-4caa-b574-1485aae99872",
   "metadata": {},
   "outputs": [
    {
     "data": {
      "text/plain": [
       "['chemistrt', 100, 200]"
      ]
     },
     "execution_count": 106,
     "metadata": {},
     "output_type": "execute_result"
    }
   ],
   "source": [
    "lst[1:4]"
   ]
  },
  {
   "cell_type": "code",
   "execution_count": 110,
   "id": "af83db4e-1fdf-4ec0-8c59-238502e3c254",
   "metadata": {},
   "outputs": [
    {
     "data": {
      "text/plain": [
       "['Mathematics', 'chemistrt', 100]"
      ]
     },
     "execution_count": 110,
     "metadata": {},
     "output_type": "execute_result"
    }
   ],
   "source": [
    "lst[ :3]"
   ]
  },
  {
   "cell_type": "code",
   "execution_count": 114,
   "id": "0d3d9ac8-3657-4021-a272-2317cbd6f64d",
   "metadata": {},
   "outputs": [
    {
     "data": {
      "text/plain": [
       "[200, 304, 400, 'Science', 'Science']"
      ]
     },
     "execution_count": 114,
     "metadata": {},
     "output_type": "execute_result"
    }
   ],
   "source": [
    "lst[3: ]"
   ]
  },
  {
   "cell_type": "code",
   "execution_count": 118,
   "id": "6939495d-599b-4665-8f9a-855c7edea919",
   "metadata": {},
   "outputs": [],
   "source": [
    "# insertion\n",
    "# syntax  --  name.insert(index, value)"
   ]
  },
  {
   "cell_type": "code",
   "execution_count": 120,
   "id": "c2276016-ace6-4ada-9852-9413fd534a56",
   "metadata": {},
   "outputs": [],
   "source": [
    "lst.insert(1,'Biology')"
   ]
  },
  {
   "cell_type": "code",
   "execution_count": 122,
   "id": "b877dcc5-2f1e-48b3-af9c-72be71b5b3d6",
   "metadata": {},
   "outputs": [
    {
     "data": {
      "text/plain": [
       "['Mathematics',\n",
       " 'Biology',\n",
       " 'chemistrt',\n",
       " 100,\n",
       " 200,\n",
       " 304,\n",
       " 400,\n",
       " 'Science',\n",
       " 'Science']"
      ]
     },
     "execution_count": 122,
     "metadata": {},
     "output_type": "execute_result"
    }
   ],
   "source": [
    "lst"
   ]
  },
  {
   "cell_type": "code",
   "execution_count": 124,
   "id": "fb2cd284-7db6-47d6-be3b-a56729abff90",
   "metadata": {},
   "outputs": [
    {
     "name": "stdout",
     "output_type": "stream",
     "text": [
      "['Mathematics', 'Biology', 'chemistrt', 100, 200, 304, 400, 'Science', 'Science']\n"
     ]
    }
   ],
   "source": [
    "print(lst)"
   ]
  },
  {
   "cell_type": "code",
   "execution_count": 126,
   "id": "5f0ad021-d9dc-4f1e-9e06-11246de300b4",
   "metadata": {},
   "outputs": [],
   "source": [
    "lst.append(['hello' , 'World'])"
   ]
  },
  {
   "cell_type": "code",
   "execution_count": 130,
   "id": "293cfa09-50f5-4f23-88f5-672eb4537c7b",
   "metadata": {},
   "outputs": [
    {
     "name": "stdout",
     "output_type": "stream",
     "text": [
      "['Mathematics', 'Biology', 'chemistrt', 100, 200, 304, 400, 'Science', 'Science', ['hello', 'World']]\n"
     ]
    }
   ],
   "source": [
    "# nested list will disply If we use Append here\n",
    "print(lst)"
   ]
  },
  {
   "cell_type": "code",
   "execution_count": 132,
   "id": "f019b332-8fe2-4c35-84a9-214c17663db9",
   "metadata": {},
   "outputs": [],
   "source": [
    "lst1 = [1,2,3]"
   ]
  },
  {
   "cell_type": "code",
   "execution_count": 134,
   "id": "e06c7276-d7e6-454c-adab-94b48fa2c071",
   "metadata": {},
   "outputs": [
    {
     "data": {
      "text/plain": [
       "[1, 2, 3]"
      ]
     },
     "execution_count": 134,
     "metadata": {},
     "output_type": "execute_result"
    }
   ],
   "source": [
    "lst1"
   ]
  },
  {
   "cell_type": "code",
   "execution_count": 136,
   "id": "5e9188a1-9460-4bd2-9cd6-fe486aae92b0",
   "metadata": {},
   "outputs": [],
   "source": [
    "lst1.append([4,5,6])"
   ]
  },
  {
   "cell_type": "code",
   "execution_count": 140,
   "id": "f8045592-2aed-4604-90a9-cf8010035b27",
   "metadata": {},
   "outputs": [
    {
     "data": {
      "text/plain": [
       "[1, 2, 3, [4, 5, 6]]"
      ]
     },
     "execution_count": 140,
     "metadata": {},
     "output_type": "execute_result"
    }
   ],
   "source": [
    "lst1   # nested list"
   ]
  },
  {
   "cell_type": "code",
   "execution_count": 142,
   "id": "734f3ed6-a674-4464-a47f-e081c4d6d1b2",
   "metadata": {},
   "outputs": [],
   "source": [
    "# extend --extend list by appending elements to the list"
   ]
  },
  {
   "cell_type": "code",
   "execution_count": 144,
   "id": "7f4e026f-37c0-4c89-a633-40dff94f96fc",
   "metadata": {},
   "outputs": [],
   "source": [
    "lst2 = [1,2,3,4,5,6,7]"
   ]
  },
  {
   "cell_type": "code",
   "execution_count": 146,
   "id": "242a2a0e-92c2-4c81-bfbf-6bd9ce16a85d",
   "metadata": {},
   "outputs": [
    {
     "data": {
      "text/plain": [
       "[1, 2, 3, 4, 5, 6, 7]"
      ]
     },
     "execution_count": 146,
     "metadata": {},
     "output_type": "execute_result"
    }
   ],
   "source": [
    "lst2"
   ]
  },
  {
   "cell_type": "code",
   "execution_count": 148,
   "id": "d253f8ee-becb-4efe-9631-feb5a4952820",
   "metadata": {},
   "outputs": [],
   "source": [
    "lst2.extend([8,9,0])"
   ]
  },
  {
   "cell_type": "code",
   "execution_count": 150,
   "id": "b8e08cdc-5d4b-461f-bfd3-677726159db0",
   "metadata": {},
   "outputs": [
    {
     "data": {
      "text/plain": [
       "[1, 2, 3, 4, 5, 6, 7, 8, 9, 0]"
      ]
     },
     "execution_count": 150,
     "metadata": {},
     "output_type": "execute_result"
    }
   ],
   "source": [
    "lst2"
   ]
  },
  {
   "cell_type": "code",
   "execution_count": 152,
   "id": "4c8f4a96-40bd-41c9-88b7-1aad4f94c602",
   "metadata": {},
   "outputs": [
    {
     "data": {
      "text/plain": [
       "45"
      ]
     },
     "execution_count": 152,
     "metadata": {},
     "output_type": "execute_result"
    }
   ],
   "source": [
    "sum(lst2)"
   ]
  },
  {
   "cell_type": "code",
   "execution_count": 154,
   "id": "b22393e2-101a-4151-9d26-0ec8a06bdff0",
   "metadata": {},
   "outputs": [],
   "source": [
    "lst3 = [1,2,3,4,5]"
   ]
  },
  {
   "cell_type": "code",
   "execution_count": 164,
   "id": "f33cdf3c-4cf6-47d4-bcec-f34750b5260e",
   "metadata": {},
   "outputs": [
    {
     "name": "stdout",
     "output_type": "stream",
     "text": [
      "[1, 2, 3, 4, 5]\n"
     ]
    },
    {
     "data": {
      "text/plain": [
       "15"
      ]
     },
     "execution_count": 164,
     "metadata": {},
     "output_type": "execute_result"
    }
   ],
   "source": [
    "print(lst3)\n",
    "sum(lst3)"
   ]
  },
  {
   "cell_type": "code",
   "execution_count": 166,
   "id": "f2d1c6a3-4b05-41cc-93b6-ede9ee73a883",
   "metadata": {},
   "outputs": [],
   "source": [
    "# pop method -- removes the last element if we not specified"
   ]
  },
  {
   "cell_type": "code",
   "execution_count": 168,
   "id": "3053e0b5-cf63-4676-a9d9-b0d7f746c90c",
   "metadata": {},
   "outputs": [],
   "source": [
    "lst4 =[1,2,3,4,5,6]"
   ]
  },
  {
   "cell_type": "code",
   "execution_count": 170,
   "id": "0b81fb70-c0c8-4073-b61e-90f09c357e35",
   "metadata": {},
   "outputs": [
    {
     "data": {
      "text/plain": [
       "[1, 2, 3, 4, 5, 6]"
      ]
     },
     "execution_count": 170,
     "metadata": {},
     "output_type": "execute_result"
    }
   ],
   "source": [
    "lst4"
   ]
  },
  {
   "cell_type": "code",
   "execution_count": 172,
   "id": "5169a57f-2682-409f-bd09-e0057d974ce9",
   "metadata": {},
   "outputs": [
    {
     "data": {
      "text/plain": [
       "6"
      ]
     },
     "execution_count": 172,
     "metadata": {},
     "output_type": "execute_result"
    }
   ],
   "source": [
    "lst4.pop()"
   ]
  },
  {
   "cell_type": "code",
   "execution_count": 174,
   "id": "109bbbf5-92cb-4abb-b91a-61cd3acfb2dc",
   "metadata": {},
   "outputs": [
    {
     "data": {
      "text/plain": [
       "1"
      ]
     },
     "execution_count": 174,
     "metadata": {},
     "output_type": "execute_result"
    }
   ],
   "source": [
    "lst4.pop(0)"
   ]
  },
  {
   "cell_type": "code",
   "execution_count": 179,
   "id": "7c9aeff4-02c6-42c9-87a1-1e1545a7a2bf",
   "metadata": {},
   "outputs": [
    {
     "data": {
      "text/plain": [
       "[2, 3, 4, 5]"
      ]
     },
     "execution_count": 179,
     "metadata": {},
     "output_type": "execute_result"
    }
   ],
   "source": [
    "lst4"
   ]
  },
  {
   "cell_type": "code",
   "execution_count": 181,
   "id": "9c92910c-8a04-4a54-aea2-dada1da7bc6e",
   "metadata": {},
   "outputs": [],
   "source": [
    "# count --calculates the total occurance of given element in the list"
   ]
  },
  {
   "cell_type": "code",
   "execution_count": 183,
   "id": "8806a4bc-a4dc-4ca8-a624-e01ef1e7a02e",
   "metadata": {},
   "outputs": [],
   "source": [
    "lst5 =[1,1,2,3,3,4,4,4,5,6,7,8,8,8,9,9,9,0]"
   ]
  },
  {
   "cell_type": "code",
   "execution_count": 186,
   "id": "b3a8221b-f5ed-49de-985c-d103bdb9d5e2",
   "metadata": {},
   "outputs": [
    {
     "data": {
      "text/plain": [
       "[1, 1, 2, 3, 3, 4, 4, 4, 5, 6, 7, 8, 8, 8, 9, 9, 9, 0]"
      ]
     },
     "execution_count": 186,
     "metadata": {},
     "output_type": "execute_result"
    }
   ],
   "source": [
    "lst5"
   ]
  },
  {
   "cell_type": "code",
   "execution_count": 192,
   "id": "a2529b65-7178-4096-bcfa-a8d0e4394a2c",
   "metadata": {},
   "outputs": [
    {
     "data": {
      "text/plain": [
       "3"
      ]
     },
     "execution_count": 192,
     "metadata": {},
     "output_type": "execute_result"
    }
   ],
   "source": [
    "lst5.count(4)"
   ]
  },
  {
   "cell_type": "code",
   "execution_count": 194,
   "id": "01732c37-3b58-4151-9b29-9e235ecb02a0",
   "metadata": {},
   "outputs": [
    {
     "data": {
      "text/plain": [
       "3"
      ]
     },
     "execution_count": 194,
     "metadata": {},
     "output_type": "execute_result"
    }
   ],
   "source": [
    "lst5.count(8)"
   ]
  },
  {
   "cell_type": "code",
   "execution_count": 196,
   "id": "ad0a196c-7688-4217-96a9-d597effa4e2a",
   "metadata": {},
   "outputs": [
    {
     "data": {
      "text/plain": [
       "18"
      ]
     },
     "execution_count": 196,
     "metadata": {},
     "output_type": "execute_result"
    }
   ],
   "source": [
    "len(lst5)"
   ]
  },
  {
   "cell_type": "code",
   "execution_count": 204,
   "id": "8464e669-3378-4b97-9e8f-c2fcf5e3b172",
   "metadata": {},
   "outputs": [],
   "source": [
    "# index --return the index of first occurance\n",
    "#syntax   name.index(value, start, stop)"
   ]
  },
  {
   "cell_type": "code",
   "execution_count": 206,
   "id": "c0463a46-672c-466f-92c8-0d7fa1624cd1",
   "metadata": {},
   "outputs": [
    {
     "data": {
      "text/plain": [
       "[1, 1, 2, 3, 3, 4, 4, 4, 5, 6, 7, 8, 8, 8, 9, 9, 9, 0]"
      ]
     },
     "execution_count": 206,
     "metadata": {},
     "output_type": "execute_result"
    }
   ],
   "source": [
    "lst5"
   ]
  },
  {
   "cell_type": "code",
   "execution_count": 208,
   "id": "1350a3fc-967f-4e96-98ce-f01832d41d7c",
   "metadata": {},
   "outputs": [
    {
     "data": {
      "text/plain": [
       "5"
      ]
     },
     "execution_count": 208,
     "metadata": {},
     "output_type": "execute_result"
    }
   ],
   "source": [
    "lst5.index(4)"
   ]
  },
  {
   "cell_type": "code",
   "execution_count": 212,
   "id": "06fd6f5c-0e16-44d6-b012-e6a60d69c006",
   "metadata": {},
   "outputs": [
    {
     "data": {
      "text/plain": [
       "11"
      ]
     },
     "execution_count": 212,
     "metadata": {},
     "output_type": "execute_result"
    }
   ],
   "source": [
    "lst5.index(8,7,13)"
   ]
  },
  {
   "cell_type": "code",
   "execution_count": 220,
   "id": "5605a8eb-aace-471d-bba3-f107a2e539c0",
   "metadata": {},
   "outputs": [
    {
     "data": {
      "text/plain": [
       "10"
      ]
     },
     "execution_count": 220,
     "metadata": {},
     "output_type": "execute_result"
    }
   ],
   "source": [
    "lst5.index(7,5,12)"
   ]
  },
  {
   "cell_type": "code",
   "execution_count": 222,
   "id": "a494edeb-af7e-45a7-a1fe-c77337ecb0a6",
   "metadata": {},
   "outputs": [],
   "source": [
    "# max and min"
   ]
  },
  {
   "cell_type": "code",
   "execution_count": 224,
   "id": "d762c499-5cb4-475a-9f54-001d82039927",
   "metadata": {},
   "outputs": [
    {
     "data": {
      "text/plain": [
       "[1, 1, 2, 3, 3, 4, 4, 4, 5, 6, 7, 8, 8, 8, 9, 9, 9, 0]"
      ]
     },
     "execution_count": 224,
     "metadata": {},
     "output_type": "execute_result"
    }
   ],
   "source": [
    "lst5"
   ]
  },
  {
   "cell_type": "code",
   "execution_count": 226,
   "id": "a2e87873-751f-4709-bed8-4ae1135ee6c5",
   "metadata": {},
   "outputs": [
    {
     "data": {
      "text/plain": [
       "0"
      ]
     },
     "execution_count": 226,
     "metadata": {},
     "output_type": "execute_result"
    }
   ],
   "source": [
    "min(lst5)"
   ]
  },
  {
   "cell_type": "code",
   "execution_count": 228,
   "id": "44df6469-a05e-4dfd-9ede-3d596c04c010",
   "metadata": {},
   "outputs": [
    {
     "data": {
      "text/plain": [
       "9"
      ]
     },
     "execution_count": 228,
     "metadata": {},
     "output_type": "execute_result"
    }
   ],
   "source": [
    "max(lst5)"
   ]
  },
  {
   "cell_type": "code",
   "execution_count": 230,
   "id": "c0d56479-f02c-4856-b9e9-823fc770edea",
   "metadata": {},
   "outputs": [
    {
     "data": {
      "text/plain": [
       "5"
      ]
     },
     "execution_count": 230,
     "metadata": {},
     "output_type": "execute_result"
    }
   ],
   "source": [
    "max(lst4)"
   ]
  },
  {
   "cell_type": "code",
   "execution_count": 232,
   "id": "bfaecf37-c0a3-490d-a1ec-a6b2967c0734",
   "metadata": {},
   "outputs": [
    {
     "data": {
      "text/plain": [
       "5"
      ]
     },
     "execution_count": 232,
     "metadata": {},
     "output_type": "execute_result"
    }
   ],
   "source": [
    "max(lst3)"
   ]
  },
  {
   "cell_type": "code",
   "execution_count": 236,
   "id": "51db267d-9ac4-4c05-8cf5-ebcf4df89301",
   "metadata": {},
   "outputs": [
    {
     "data": {
      "text/plain": [
       "1"
      ]
     },
     "execution_count": 236,
     "metadata": {},
     "output_type": "execute_result"
    }
   ],
   "source": [
    "min(lst3)"
   ]
  },
  {
   "cell_type": "code",
   "execution_count": null,
   "id": "7027a951-c35f-4d05-9e3f-369e8f95507a",
   "metadata": {},
   "outputs": [],
   "source": []
  }
 ],
 "metadata": {
  "kernelspec": {
   "display_name": "Python 3 (ipykernel)",
   "language": "python",
   "name": "python3"
  },
  "language_info": {
   "codemirror_mode": {
    "name": "ipython",
    "version": 3
   },
   "file_extension": ".py",
   "mimetype": "text/x-python",
   "name": "python",
   "nbconvert_exporter": "python",
   "pygments_lexer": "ipython3",
   "version": "3.11.7"
  }
 },
 "nbformat": 4,
 "nbformat_minor": 5
}

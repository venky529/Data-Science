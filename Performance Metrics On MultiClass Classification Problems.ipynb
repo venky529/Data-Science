{
 "cells": [
  {
   "cell_type": "code",
   "execution_count": 2,
   "id": "760618b6-1017-45b2-a5df-3e701c43dd84",
   "metadata": {},
   "outputs": [],
   "source": [
    "from sklearn import metrics"
   ]
  },
  {
   "cell_type": "code",
   "execution_count": 4,
   "id": "deb5aba8-bd2d-4cd5-a635-43b6e2e7f79a",
   "metadata": {},
   "outputs": [],
   "source": [
    "C ='cat'\n",
    "D ='dog'\n",
    "F ='fox'"
   ]
  },
  {
   "cell_type": "markdown",
   "id": "8d520c95-3ed5-4bfd-aca4-0277af026bb7",
   "metadata": {},
   "source": [
    "#### the precision for the Cat class is the number of correctly predicted Cat out of all predicted Cat\n",
    "\n",
    "#### the recall for Cat is the number of correctly predicted Cat photos out of the number of actual Cat"
   ]
  },
  {
   "cell_type": "code",
   "execution_count": 14,
   "id": "3a84bdff-971e-4f99-965f-a15ff748ae38",
   "metadata": {},
   "outputs": [
    {
     "name": "stdout",
     "output_type": "stream",
     "text": [
      "[[4 1 1]\n",
      " [3 6 0]\n",
      " [6 2 2]]\n",
      "              precision    recall  f1-score   support\n",
      "\n",
      "         cat       0.31      0.67      0.42         6\n",
      "         dog       0.67      0.67      0.67         9\n",
      "         fox       0.67      0.20      0.31        10\n",
      "\n",
      "    accuracy                           0.48        25\n",
      "   macro avg       0.55      0.51      0.47        25\n",
      "weighted avg       0.58      0.48      0.46        25\n",
      "\n"
     ]
    }
   ],
   "source": [
    "#True Values\n",
    "y_true =[C,C,C,C,C,C, F,F,F,F,F,F,F,F,F,F, D,D,D,D,D,D,D,D,D]\n",
    "\n",
    "# Predicted Values\n",
    "y_pred =[C,C,C,C,D,F, C,C,C,C,C,C,D,D,F,F, C,C,C,D,D,D,D,D,D]\n",
    "\n",
    "# Print the confusion matrix\n",
    "print(metrics.confusion_matrix(y_true,y_pred))\n",
    "\n",
    "# Print the precision and recall among other matrices\n",
    "print(metrics.classification_report(y_true,y_pred))"
   ]
  },
  {
   "cell_type": "code",
   "execution_count": null,
   "id": "3d98db49-17cd-4cef-9170-3557a59f33d3",
   "metadata": {},
   "outputs": [],
   "source": []
  }
 ],
 "metadata": {
  "kernelspec": {
   "display_name": "Python 3 (ipykernel)",
   "language": "python",
   "name": "python3"
  },
  "language_info": {
   "codemirror_mode": {
    "name": "ipython",
    "version": 3
   },
   "file_extension": ".py",
   "mimetype": "text/x-python",
   "name": "python",
   "nbconvert_exporter": "python",
   "pygments_lexer": "ipython3",
   "version": "3.12.7"
  }
 },
 "nbformat": 4,
 "nbformat_minor": 5
}

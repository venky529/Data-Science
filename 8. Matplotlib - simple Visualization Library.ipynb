{
 "cells": [
  {
   "cell_type": "markdown",
   "id": "e5ee2954-a5da-4edc-8247-50ae87b7150f",
   "metadata": {},
   "source": [
    "# Matplotlib"
   ]
  },
  {
   "cell_type": "markdown",
   "id": "15751a2f-befd-4a9e-bf13-c46eaf4ab23f",
   "metadata": {},
   "source": [
    "-- Matplotlib is a plotting library for python programming and its numerical mathematics extension Numpy."
   ]
  },
  {
   "cell_type": "markdown",
   "id": "ebe1d02e-fdb8-423e-b74b-8240ee1ed07d",
   "metadata": {},
   "source": [
    "-- It provides a object-oriented API for embedding plots into applications using general purpose GUI toolkits like Tkinter."
   ]
  },
  {
   "cell_type": "code",
   "execution_count": 20,
   "id": "e9379445-c49f-4df7-a557-2d29be42d486",
   "metadata": {},
   "outputs": [],
   "source": [
    "# for import matplotlinb\n",
    "import matplotlib.pyplot as plt\n",
    "%matplotlib inline\n",
    "import numpy as np"
   ]
  },
  {
   "cell_type": "code",
   "execution_count": 26,
   "id": "2585f9ce-621d-434e-b08f-b92176584234",
   "metadata": {},
   "outputs": [],
   "source": [
    "# sample example\n",
    "\n",
    "x = np.arange(0,10)\n",
    "y = np.arange(11,21)\n"
   ]
  },
  {
   "cell_type": "code",
   "execution_count": 28,
   "id": "01a6059a-eb67-4674-8df2-caba88b8977a",
   "metadata": {},
   "outputs": [],
   "source": [
    "a = np.arange(40,50)\n",
    "b = np.arange(50,60)"
   ]
  },
  {
   "cell_type": "markdown",
   "id": "4cca0a40-27f9-4f57-af89-5ef028d7fb82",
   "metadata": {},
   "source": [
    "#### plotting Using Matplotlib"
   ]
  },
  {
   "cell_type": "code",
   "execution_count": null,
   "id": "5c9f5ee9-b84e-4d21-9a30-8f8e17a759f1",
   "metadata": {},
   "outputs": [],
   "source": [
    "# Plt Scatter -- the value of x and y in Graph\n",
    "\n",
    "plt.Scatter(x,y,c='g')\n",
    "\n"
   ]
  }
 ],
 "metadata": {
  "kernelspec": {
   "display_name": "Python 3 (ipykernel)",
   "language": "python",
   "name": "python3"
  },
  "language_info": {
   "codemirror_mode": {
    "name": "ipython",
    "version": 3
   },
   "file_extension": ".py",
   "mimetype": "text/x-python",
   "name": "python",
   "nbconvert_exporter": "python",
   "pygments_lexer": "ipython3",
   "version": "3.12.7"
  }
 },
 "nbformat": 4,
 "nbformat_minor": 5
}

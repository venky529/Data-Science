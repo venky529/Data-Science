{
 "cells": [
  {
   "cell_type": "markdown",
   "id": "78b15542-efd1-40bd-a494-88f995e359c0",
   "metadata": {},
   "source": [
    "### Python Data Structures\n",
    "- Sets\n",
    "- Dictonaries\n",
    "- Tuples"
   ]
  },
  {
   "cell_type": "markdown",
   "id": "c2caaf3f-a101-43ee-8574-b176b02284f3",
   "metadata": {},
   "source": [
    "#### Sets"
   ]
  },
  {
   "cell_type": "code",
   "execution_count": 3,
   "id": "47a83173-fcc3-400f-a49b-46cecd1bd36c",
   "metadata": {},
   "outputs": [],
   "source": [
    "# Sets  -- unordered collection of datatype, that iis iterable and NO Duplicate elements."
   ]
  },
  {
   "cell_type": "code",
   "execution_count": 5,
   "id": "2335dffa-d5ff-4753-ab96-6c795ae3ce0b",
   "metadata": {},
   "outputs": [],
   "source": [
    "set_var = set()"
   ]
  },
  {
   "cell_type": "code",
   "execution_count": 7,
   "id": "17129c90-e8e9-46a6-a46a-111d8e024437",
   "metadata": {},
   "outputs": [
    {
     "name": "stdout",
     "output_type": "stream",
     "text": [
      "set()\n"
     ]
    }
   ],
   "source": [
    "print(set_var)"
   ]
  },
  {
   "cell_type": "code",
   "execution_count": 9,
   "id": "8e60d049-187b-434d-a195-1d62025d8b72",
   "metadata": {},
   "outputs": [
    {
     "data": {
      "text/plain": [
       "set"
      ]
     },
     "execution_count": 9,
     "metadata": {},
     "output_type": "execute_result"
    }
   ],
   "source": [
    "type(set_var)"
   ]
  },
  {
   "cell_type": "code",
   "execution_count": 11,
   "id": "29521f2a-3860-46da-8a0d-c5a817953f93",
   "metadata": {},
   "outputs": [],
   "source": [
    "set_var ={1,2,3,4,5}"
   ]
  },
  {
   "cell_type": "code",
   "execution_count": 13,
   "id": "19859c1f-67e1-4ed5-88c4-6539ee0c3a5b",
   "metadata": {},
   "outputs": [
    {
     "data": {
      "text/plain": [
       "{1, 2, 3, 4, 5}"
      ]
     },
     "execution_count": 13,
     "metadata": {},
     "output_type": "execute_result"
    }
   ],
   "source": [
    "set_var"
   ]
  },
  {
   "cell_type": "code",
   "execution_count": 15,
   "id": "a5b38653-aa57-4392-aa02-e33f6d26197e",
   "metadata": {},
   "outputs": [],
   "source": [
    "set_var1 ={\"Avengers\" ,\"Thor\" , \"Ironman\"}"
   ]
  },
  {
   "cell_type": "code",
   "execution_count": 17,
   "id": "63f993b5-1051-463d-95c6-4e76a1ed919e",
   "metadata": {},
   "outputs": [
    {
     "data": {
      "text/plain": [
       "{'Avengers', 'Ironman', 'Thor'}"
      ]
     },
     "execution_count": 17,
     "metadata": {},
     "output_type": "execute_result"
    }
   ],
   "source": [
    "set_var1"
   ]
  },
  {
   "cell_type": "code",
   "execution_count": 19,
   "id": "3f095447-d161-44c0-99a8-87ef8d72c9ba",
   "metadata": {},
   "outputs": [],
   "source": [
    "#In build Functions ---- sets doesnt support indexing"
   ]
  },
  {
   "cell_type": "code",
   "execution_count": 21,
   "id": "70380fc2-60d1-43df-ac70-8c8ec4a4e007",
   "metadata": {},
   "outputs": [],
   "source": [
    "#add"
   ]
  },
  {
   "cell_type": "code",
   "execution_count": 23,
   "id": "5eec052d-2a85-448f-ab60-068ba3953e45",
   "metadata": {},
   "outputs": [],
   "source": [
    "set_var1.add(\"Hulk\")"
   ]
  },
  {
   "cell_type": "code",
   "execution_count": 25,
   "id": "2352cebb-3bc7-4f31-bcaa-0918a25dea97",
   "metadata": {},
   "outputs": [
    {
     "data": {
      "text/plain": [
       "{'Avengers', 'Hulk', 'Ironman', 'Thor'}"
      ]
     },
     "execution_count": 25,
     "metadata": {},
     "output_type": "execute_result"
    }
   ],
   "source": [
    "set_var1"
   ]
  },
  {
   "cell_type": "code",
   "execution_count": 27,
   "id": "6353ea46-8498-4965-a6a7-e4c4c8bfc50c",
   "metadata": {},
   "outputs": [],
   "source": [
    "#difference"
   ]
  },
  {
   "cell_type": "code",
   "execution_count": 29,
   "id": "d71fffbe-5c33-4df2-abc0-97ca5bd573da",
   "metadata": {},
   "outputs": [],
   "source": [
    "set1 = {\"Avengers\" , \"Ironman\" , \"Hitman\"}\n",
    "set2 = {\"Avengers\" , \"Ironman\" , \"Hitman\" , \"Hulk2\"}"
   ]
  },
  {
   "cell_type": "code",
   "execution_count": 31,
   "id": "2d963e51-9a46-4d74-8939-3b2b792a29d2",
   "metadata": {},
   "outputs": [
    {
     "data": {
      "text/plain": [
       "{'Avengers', 'Hitman', 'Ironman'}"
      ]
     },
     "execution_count": 31,
     "metadata": {},
     "output_type": "execute_result"
    }
   ],
   "source": [
    "set1"
   ]
  },
  {
   "cell_type": "code",
   "execution_count": 33,
   "id": "f0b113e7-eda9-4508-bc74-378677f45f5d",
   "metadata": {},
   "outputs": [
    {
     "data": {
      "text/plain": [
       "{'Avengers', 'Hitman', 'Hulk2', 'Ironman'}"
      ]
     },
     "execution_count": 33,
     "metadata": {},
     "output_type": "execute_result"
    }
   ],
   "source": [
    "set2"
   ]
  },
  {
   "cell_type": "code",
   "execution_count": 35,
   "id": "7732a9e0-6c74-4cc7-a6da-1086deaddfb5",
   "metadata": {},
   "outputs": [
    {
     "data": {
      "text/plain": [
       "{'Hulk2'}"
      ]
     },
     "execution_count": 35,
     "metadata": {},
     "output_type": "execute_result"
    }
   ],
   "source": [
    "set2.difference(set1)"
   ]
  },
  {
   "cell_type": "code",
   "execution_count": 37,
   "id": "6d18a4b1-6ca0-4b6e-8d32-517f4e6fedd4",
   "metadata": {},
   "outputs": [
    {
     "data": {
      "text/plain": [
       "{'Avengers', 'Hitman', 'Hulk2', 'Ironman'}"
      ]
     },
     "execution_count": 37,
     "metadata": {},
     "output_type": "execute_result"
    }
   ],
   "source": [
    "set2"
   ]
  },
  {
   "cell_type": "code",
   "execution_count": 39,
   "id": "a13724ff-2a21-4231-8521-84be6c541191",
   "metadata": {},
   "outputs": [
    {
     "data": {
      "text/plain": [
       "{'Avengers', 'Hitman', 'Ironman'}"
      ]
     },
     "execution_count": 39,
     "metadata": {},
     "output_type": "execute_result"
    }
   ],
   "source": [
    "set1"
   ]
  },
  {
   "cell_type": "code",
   "execution_count": 41,
   "id": "ff23ad9f-ea03-49d6-a586-daa6cce79b0a",
   "metadata": {},
   "outputs": [],
   "source": [
    "set2.difference_update(set1)"
   ]
  },
  {
   "cell_type": "code",
   "execution_count": 43,
   "id": "4d63f935-73a9-4f0f-abd9-830fb68058b6",
   "metadata": {},
   "outputs": [
    {
     "data": {
      "text/plain": [
       "{'Hulk2'}"
      ]
     },
     "execution_count": 43,
     "metadata": {},
     "output_type": "execute_result"
    }
   ],
   "source": [
    "set2"
   ]
  },
  {
   "cell_type": "code",
   "execution_count": 45,
   "id": "0919ac49-f320-4d5e-ac2c-170ee373ccc6",
   "metadata": {},
   "outputs": [
    {
     "data": {
      "text/plain": [
       "{'Avengers', 'Hitman', 'Ironman'}"
      ]
     },
     "execution_count": 45,
     "metadata": {},
     "output_type": "execute_result"
    }
   ],
   "source": [
    "set1"
   ]
  },
  {
   "cell_type": "code",
   "execution_count": 47,
   "id": "53525f18-9f02-4add-94d4-4f30f7cf84fc",
   "metadata": {},
   "outputs": [],
   "source": [
    "#intersection"
   ]
  },
  {
   "cell_type": "code",
   "execution_count": 49,
   "id": "9dd21d0f-59d1-484a-bc1a-f07ef24bcd20",
   "metadata": {},
   "outputs": [],
   "source": [
    "set1 = {\"Avengers\" , \"Ironman\" , \"Hitman\"}\n",
    "set2 = {\"Avengers\" , \"Ironman\" , \"Hitman\" , \"Hulk2\"}"
   ]
  },
  {
   "cell_type": "code",
   "execution_count": 51,
   "id": "b6ae3085-2863-4084-a7fb-537459fc8e22",
   "metadata": {},
   "outputs": [
    {
     "data": {
      "text/plain": [
       "{'Avengers', 'Hitman', 'Ironman'}"
      ]
     },
     "execution_count": 51,
     "metadata": {},
     "output_type": "execute_result"
    }
   ],
   "source": [
    "set1"
   ]
  },
  {
   "cell_type": "code",
   "execution_count": 53,
   "id": "08b6fa50-17d2-4ca7-993e-65a3f2008d75",
   "metadata": {},
   "outputs": [
    {
     "data": {
      "text/plain": [
       "{'Avengers', 'Hitman', 'Hulk2', 'Ironman'}"
      ]
     },
     "execution_count": 53,
     "metadata": {},
     "output_type": "execute_result"
    }
   ],
   "source": [
    "set2"
   ]
  },
  {
   "cell_type": "code",
   "execution_count": 55,
   "id": "f656214f-cc55-4182-83fb-83ba53812062",
   "metadata": {},
   "outputs": [
    {
     "data": {
      "text/plain": [
       "{'Avengers', 'Hitman', 'Ironman'}"
      ]
     },
     "execution_count": 55,
     "metadata": {},
     "output_type": "execute_result"
    }
   ],
   "source": [
    "set2.intersection(set1)"
   ]
  },
  {
   "cell_type": "code",
   "execution_count": 57,
   "id": "abb1d4f3-2c54-4184-ae8a-fa0718886514",
   "metadata": {},
   "outputs": [
    {
     "data": {
      "text/plain": [
       "{'Avengers', 'Hitman', 'Ironman'}"
      ]
     },
     "execution_count": 57,
     "metadata": {},
     "output_type": "execute_result"
    }
   ],
   "source": [
    "set1"
   ]
  },
  {
   "cell_type": "code",
   "execution_count": 59,
   "id": "c41569aa-a5aa-4d18-8e11-d3194a512b93",
   "metadata": {},
   "outputs": [
    {
     "data": {
      "text/plain": [
       "{'Avengers', 'Hitman', 'Hulk2', 'Ironman'}"
      ]
     },
     "execution_count": 59,
     "metadata": {},
     "output_type": "execute_result"
    }
   ],
   "source": [
    "set2"
   ]
  },
  {
   "cell_type": "code",
   "execution_count": 63,
   "id": "38727cba-16f0-4a7e-8b0a-5df85b940261",
   "metadata": {},
   "outputs": [],
   "source": [
    "set2.intersection_update(set1)"
   ]
  },
  {
   "cell_type": "code",
   "execution_count": 65,
   "id": "e6883d38-eaaa-49a4-b7c3-2bd211f2cf2e",
   "metadata": {},
   "outputs": [
    {
     "data": {
      "text/plain": [
       "{'Avengers', 'Hitman', 'Ironman'}"
      ]
     },
     "execution_count": 65,
     "metadata": {},
     "output_type": "execute_result"
    }
   ],
   "source": [
    "set2"
   ]
  },
  {
   "cell_type": "code",
   "execution_count": 67,
   "id": "57e5e2a3-3f8d-4cc9-adab-d0cc6938de78",
   "metadata": {},
   "outputs": [
    {
     "data": {
      "text/plain": [
       "{'Avengers', 'Hitman', 'Ironman'}"
      ]
     },
     "execution_count": 67,
     "metadata": {},
     "output_type": "execute_result"
    }
   ],
   "source": [
    "set1"
   ]
  },
  {
   "cell_type": "markdown",
   "id": "ad9e2987-fe3e-4228-9e91-193ad59e46ee",
   "metadata": {},
   "source": [
    "#### Dictionaries"
   ]
  },
  {
   "cell_type": "code",
   "execution_count": 72,
   "id": "ca1dc5de-4d75-4a04-a3de-09f26c0bdc80",
   "metadata": {},
   "outputs": [],
   "source": [
    "# dictionaries --- collection in which unordered , changable and indexed"
   ]
  },
  {
   "cell_type": "code",
   "execution_count": 74,
   "id": "fa48816e-5abf-45d5-b234-6c7448af3a22",
   "metadata": {},
   "outputs": [],
   "source": [
    "dic ={ }"
   ]
  },
  {
   "cell_type": "code",
   "execution_count": 76,
   "id": "9e49aadf-318d-41df-ad0c-b204369fe9f6",
   "metadata": {},
   "outputs": [
    {
     "data": {
      "text/plain": [
       "dict"
      ]
     },
     "execution_count": 76,
     "metadata": {},
     "output_type": "execute_result"
    }
   ],
   "source": [
    "type(dic)"
   ]
  },
  {
   "cell_type": "code",
   "execution_count": 78,
   "id": "0c0b65cb-b588-4406-bed0-e051ed618878",
   "metadata": {},
   "outputs": [],
   "source": [
    "dic ={1,2,3,4}"
   ]
  },
  {
   "cell_type": "code",
   "execution_count": 82,
   "id": "dc59f9d0-44ef-4f82-8f53-d180899f7088",
   "metadata": {},
   "outputs": [
    {
     "data": {
      "text/plain": [
       "set"
      ]
     },
     "execution_count": 82,
     "metadata": {},
     "output_type": "execute_result"
    }
   ],
   "source": [
    "type(dic)  # type would be set only , If it need to be a dictionary there must be a key: value"
   ]
  },
  {
   "cell_type": "code",
   "execution_count": 90,
   "id": "5f61f8b4-f9cb-4ce0-b9e8-71b809bd1aca",
   "metadata": {},
   "outputs": [],
   "source": [
    "# creating Dictionary\n",
    "\n",
    "my_dict = {\"car1\" : \"Audi\" , \"car2\" : \"BMW\" , \"car3\" : \"Benz\" }"
   ]
  },
  {
   "cell_type": "code",
   "execution_count": 94,
   "id": "8fa5ca6c-84df-496e-b09c-4c87a6e1ac02",
   "metadata": {},
   "outputs": [
    {
     "name": "stdout",
     "output_type": "stream",
     "text": [
      "{'car1': 'Audi', 'car2': 'BMW', 'car3': 'Benz'}\n"
     ]
    }
   ],
   "source": [
    "print(my_dict)"
   ]
  },
  {
   "cell_type": "code",
   "execution_count": 99,
   "id": "2266d73a-56d9-48a9-8c6b-ccf8ad63f4a8",
   "metadata": {},
   "outputs": [
    {
     "data": {
      "text/plain": [
       "'Audi'"
      ]
     },
     "execution_count": 99,
     "metadata": {},
     "output_type": "execute_result"
    }
   ],
   "source": [
    "# Accessing items values from my_dict based on item keys\n",
    "\n",
    "my_dict['car1']"
   ]
  },
  {
   "cell_type": "code",
   "execution_count": 103,
   "id": "eb9ee08b-7daf-4218-8ef4-b1ab5ecf0161",
   "metadata": {},
   "outputs": [
    {
     "data": {
      "text/plain": [
       "'BMW'"
      ]
     },
     "execution_count": 103,
     "metadata": {},
     "output_type": "execute_result"
    }
   ],
   "source": [
    "my_dict['car2']"
   ]
  },
  {
   "cell_type": "code",
   "execution_count": 105,
   "id": "9cc551f1-0265-4351-bf6c-6f20f448e264",
   "metadata": {},
   "outputs": [],
   "source": [
    "# we can find for lopp for dictionaries"
   ]
  },
  {
   "cell_type": "code",
   "execution_count": 107,
   "id": "5cc575c8-04f0-4a8c-b6cc-ef8c547859a2",
   "metadata": {},
   "outputs": [
    {
     "name": "stdout",
     "output_type": "stream",
     "text": [
      "car1\n",
      "car2\n",
      "car3\n"
     ]
    }
   ],
   "source": [
    "# key values \n",
    "for x in my_dict:\n",
    "    print(x)"
   ]
  },
  {
   "cell_type": "code",
   "execution_count": 109,
   "id": "b281bc7c-ab1e-4f01-b14f-4bd2f8be9f1d",
   "metadata": {},
   "outputs": [
    {
     "name": "stdout",
     "output_type": "stream",
     "text": [
      "Audi\n",
      "BMW\n",
      "Benz\n"
     ]
    }
   ],
   "source": [
    "#values items\n",
    "for x in my_dict.values():\n",
    "    print(x)"
   ]
  },
  {
   "cell_type": "code",
   "execution_count": 111,
   "id": "d557245a-10f5-4d28-a7a7-61560d660569",
   "metadata": {},
   "outputs": [
    {
     "name": "stdout",
     "output_type": "stream",
     "text": [
      "('car1', 'Audi')\n",
      "('car2', 'BMW')\n",
      "('car3', 'Benz')\n"
     ]
    }
   ],
   "source": [
    "# for Entire Dictionary\n",
    "for x in my_dict.items():\n",
    "    print(x)"
   ]
  },
  {
   "cell_type": "code",
   "execution_count": 113,
   "id": "2866e1db-d6e1-4a87-a49d-4b68a2c43733",
   "metadata": {},
   "outputs": [],
   "source": [
    "# adding items in dictionary"
   ]
  },
  {
   "cell_type": "code",
   "execution_count": 115,
   "id": "d7bbc536-af6b-4af4-ba2c-50a0b8b60fdb",
   "metadata": {},
   "outputs": [
    {
     "data": {
      "text/plain": [
       "{'car1': 'Audi', 'car2': 'BMW', 'car3': 'Benz'}"
      ]
     },
     "execution_count": 115,
     "metadata": {},
     "output_type": "execute_result"
    }
   ],
   "source": [
    "my_dict"
   ]
  },
  {
   "cell_type": "code",
   "execution_count": 117,
   "id": "2d999a04-3296-4660-b4fb-9f3b9a315fb0",
   "metadata": {},
   "outputs": [],
   "source": [
    "my_dict['car4'] = \"Skoda\""
   ]
  },
  {
   "cell_type": "code",
   "execution_count": 119,
   "id": "07c47797-02af-4027-a6e8-7f9618be65bd",
   "metadata": {},
   "outputs": [
    {
     "data": {
      "text/plain": [
       "{'car1': 'Audi', 'car2': 'BMW', 'car3': 'Benz', 'car4': 'Skoda'}"
      ]
     },
     "execution_count": 119,
     "metadata": {},
     "output_type": "execute_result"
    }
   ],
   "source": [
    "my_dict"
   ]
  },
  {
   "cell_type": "code",
   "execution_count": 121,
   "id": "622cf090-131c-4590-9a77-13da52060aa8",
   "metadata": {},
   "outputs": [],
   "source": [
    "my_dict['car1'] = \"MG Hector\""
   ]
  },
  {
   "cell_type": "code",
   "execution_count": 125,
   "id": "715647cd-251f-4477-a7c3-0212a6b8abaa",
   "metadata": {},
   "outputs": [
    {
     "data": {
      "text/plain": [
       "{'car1': 'MG Hector', 'car2': 'BMW', 'car3': 'Benz', 'car4': 'Skoda'}"
      ]
     },
     "execution_count": 125,
     "metadata": {},
     "output_type": "execute_result"
    }
   ],
   "source": [
    "my_dict                  # car1 will replace "
   ]
  },
  {
   "cell_type": "code",
   "execution_count": 127,
   "id": "35152fab-9fec-4f3e-b638-6243a33e03bd",
   "metadata": {},
   "outputs": [],
   "source": [
    "#Nested Dictionary"
   ]
  },
  {
   "cell_type": "code",
   "execution_count": 129,
   "id": "a06871d3-cc45-435b-b416-8180369cecff",
   "metadata": {},
   "outputs": [],
   "source": [
    "car1_model = {\"benz\" : 1960}\n",
    "car2_model = {\"MG Hector\" : 2020}\n",
    "car3_model = {\"RR\" : 1970}\n",
    "car4_model = {\"BMW\" : 1950}"
   ]
  },
  {
   "cell_type": "code",
   "execution_count": 133,
   "id": "3a1bfcbb-5ba8-4479-8a4a-4994ae90e424",
   "metadata": {},
   "outputs": [],
   "source": [
    "car_type ={ \"car1\" : car1_model , \"car2\" : car2_model , \"car3\" : car3_model , \"car4\" : car4_model}"
   ]
  },
  {
   "cell_type": "code",
   "execution_count": 135,
   "id": "8c919694-3365-496b-9acf-614bb1548272",
   "metadata": {},
   "outputs": [
    {
     "name": "stdout",
     "output_type": "stream",
     "text": [
      "{'car1': {'benz': 1960}, 'car2': {'MG Hector': 2020}, 'car3': {'RR': 1970}, 'car4': {'BMW': 1950}}\n"
     ]
    }
   ],
   "source": [
    "print(car_type)"
   ]
  },
  {
   "cell_type": "code",
   "execution_count": 137,
   "id": "595b2fd4-d246-4068-a1ae-1a6c7c8b4579",
   "metadata": {},
   "outputs": [],
   "source": [
    "#accessing items in dictionary"
   ]
  },
  {
   "cell_type": "code",
   "execution_count": 139,
   "id": "e7079b2f-2508-4391-97a8-91eca470340e",
   "metadata": {},
   "outputs": [
    {
     "name": "stdout",
     "output_type": "stream",
     "text": [
      "{'benz': 1960}\n"
     ]
    }
   ],
   "source": [
    "print(car_type['car1'])"
   ]
  },
  {
   "cell_type": "code",
   "execution_count": 141,
   "id": "10a084ec-e6e6-4d6f-be4b-de01c802ddb2",
   "metadata": {},
   "outputs": [
    {
     "name": "stdout",
     "output_type": "stream",
     "text": [
      "{'car1': {'benz': 1960}, 'car2': {'MG Hector': 2020}, 'car3': {'RR': 1970}, 'car4': {'BMW': 1950}}\n"
     ]
    }
   ],
   "source": [
    "print(car_type)"
   ]
  },
  {
   "cell_type": "code",
   "execution_count": 147,
   "id": "a3c16b55-ffa5-4473-ba80-b52db5ca7cef",
   "metadata": {},
   "outputs": [
    {
     "name": "stdout",
     "output_type": "stream",
     "text": [
      "1960\n"
     ]
    }
   ],
   "source": [
    "print(car_type['car1']['benz'])"
   ]
  },
  {
   "cell_type": "markdown",
   "id": "f58aa822-cec6-42de-9969-ad86fa5fe874",
   "metadata": {},
   "source": [
    "#### Tuples"
   ]
  },
  {
   "cell_type": "code",
   "execution_count": 150,
   "id": "1bfadc80-18ad-4c78-8bbb-7cee56de3828",
   "metadata": {},
   "outputs": [],
   "source": [
    "# tuples  -- not Mutable and can not be changed"
   ]
  },
  {
   "cell_type": "code",
   "execution_count": 152,
   "id": "da9e9fef-ecc5-4069-b9ee-d6eb170c97d8",
   "metadata": {},
   "outputs": [],
   "source": [
    "my_tuple = tuple()"
   ]
  },
  {
   "cell_type": "code",
   "execution_count": 154,
   "id": "6a86c38f-2e30-4eb4-8247-309e62b8f6da",
   "metadata": {},
   "outputs": [
    {
     "data": {
      "text/plain": [
       "tuple"
      ]
     },
     "execution_count": 154,
     "metadata": {},
     "output_type": "execute_result"
    }
   ],
   "source": [
    "type(my_tuple)"
   ]
  },
  {
   "cell_type": "code",
   "execution_count": 156,
   "id": "625c0f71-4013-4c66-9303-9377e321f80c",
   "metadata": {},
   "outputs": [],
   "source": [
    "my_tuple =(\"krish\", \"Anil\" , \"John\")"
   ]
  },
  {
   "cell_type": "code",
   "execution_count": 160,
   "id": "73bd886e-d409-4ae7-bda8-71f8b716da65",
   "metadata": {},
   "outputs": [
    {
     "data": {
      "text/plain": [
       "('krish', 'Anil', 'John')"
      ]
     },
     "execution_count": 160,
     "metadata": {},
     "output_type": "execute_result"
    }
   ],
   "source": [
    "my_tuple"
   ]
  },
  {
   "cell_type": "code",
   "execution_count": 168,
   "id": "580c99c1-6b3d-4ce8-af95-64fe7f06367f",
   "metadata": {},
   "outputs": [
    {
     "name": "stdout",
     "output_type": "stream",
     "text": [
      "Anil\n"
     ]
    }
   ],
   "source": [
    "print(my_tuple[1])"
   ]
  },
  {
   "cell_type": "code",
   "execution_count": 170,
   "id": "529ab5f3-1bbe-4d45-989b-18a28a791c9b",
   "metadata": {},
   "outputs": [
    {
     "data": {
      "text/plain": [
       "0"
      ]
     },
     "execution_count": 170,
     "metadata": {},
     "output_type": "execute_result"
    }
   ],
   "source": [
    "my_tuple.count(\"Krish\")"
   ]
  },
  {
   "cell_type": "code",
   "execution_count": 172,
   "id": "630cc445-0041-44ed-b3cb-72cba414b513",
   "metadata": {},
   "outputs": [
    {
     "data": {
      "text/plain": [
       "2"
      ]
     },
     "execution_count": 172,
     "metadata": {},
     "output_type": "execute_result"
    }
   ],
   "source": [
    "my_tuple.index(\"John\")"
   ]
  },
  {
   "cell_type": "code",
   "execution_count": null,
   "id": "c2a1eb0c-12ad-4117-b9f9-f91e5f18d715",
   "metadata": {},
   "outputs": [],
   "source": []
  }
 ],
 "metadata": {
  "kernelspec": {
   "display_name": "Python 3 (ipykernel)",
   "language": "python",
   "name": "python3"
  },
  "language_info": {
   "codemirror_mode": {
    "name": "ipython",
    "version": 3
   },
   "file_extension": ".py",
   "mimetype": "text/x-python",
   "name": "python",
   "nbconvert_exporter": "python",
   "pygments_lexer": "ipython3",
   "version": "3.11.7"
  }
 },
 "nbformat": 4,
 "nbformat_minor": 5
}

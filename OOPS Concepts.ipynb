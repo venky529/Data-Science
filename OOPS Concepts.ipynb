{
 "cells": [
  {
   "cell_type": "markdown",
   "id": "44ac1eee-b52c-4c1d-b06f-f3d41899701e",
   "metadata": {},
   "source": [
    "### Class"
   ]
  },
  {
   "cell_type": "code",
   "execution_count": 3,
   "id": "d2016218-165f-4ddc-a9ed-17bb58b0bc51",
   "metadata": {},
   "outputs": [],
   "source": [
    "class car:\n",
    "    pass"
   ]
  },
  {
   "cell_type": "code",
   "execution_count": 5,
   "id": "82dcd02a-4383-4bc4-b01c-ef0664931024",
   "metadata": {},
   "outputs": [],
   "source": [
    "car1=car()"
   ]
  },
  {
   "cell_type": "code",
   "execution_count": 7,
   "id": "09c537f5-68ae-47ef-a72b-d590b2d4e54e",
   "metadata": {},
   "outputs": [
    {
     "data": {
      "text/plain": [
       "<__main__.car at 0x21368717ef0>"
      ]
     },
     "execution_count": 7,
     "metadata": {},
     "output_type": "execute_result"
    }
   ],
   "source": [
    "car1"
   ]
  },
  {
   "cell_type": "code",
   "execution_count": 9,
   "id": "63bf222e-d3ad-44e4-8167-2d49452b8a7c",
   "metadata": {},
   "outputs": [],
   "source": [
    "# Properties\n",
    "\n",
    "car1.windows =5\n",
    "car1.doors =4"
   ]
  },
  {
   "cell_type": "code",
   "execution_count": 11,
   "id": "6587e196-60aa-44f0-9ba9-7c8615d6d74e",
   "metadata": {},
   "outputs": [
    {
     "name": "stdout",
     "output_type": "stream",
     "text": [
      "5\n"
     ]
    }
   ],
   "source": [
    "print(car1.windows)"
   ]
  },
  {
   "cell_type": "code",
   "execution_count": 13,
   "id": "101a1fc7-7554-4bef-b7c7-f343752cce6e",
   "metadata": {},
   "outputs": [],
   "source": [
    "car2=car()"
   ]
  },
  {
   "cell_type": "code",
   "execution_count": 15,
   "id": "349c40d7-2445-4269-9ca5-178eb2d1adb0",
   "metadata": {},
   "outputs": [],
   "source": [
    "car2.windows =4\n",
    "car2.doors =3"
   ]
  },
  {
   "cell_type": "code",
   "execution_count": 17,
   "id": "c3076e18-b43c-42cc-a72f-dbd19ac5d3e4",
   "metadata": {},
   "outputs": [
    {
     "name": "stdout",
     "output_type": "stream",
     "text": [
      "3\n"
     ]
    }
   ],
   "source": [
    "print(car2.doors)"
   ]
  },
  {
   "cell_type": "code",
   "execution_count": 19,
   "id": "9db64f41-9f53-417f-a306-4f7f94638fa3",
   "metadata": {},
   "outputs": [
    {
     "name": "stdout",
     "output_type": "stream",
     "text": [
      "<__main__.car object at 0x0000021368106CC0>\n"
     ]
    }
   ],
   "source": [
    "print(car2)"
   ]
  },
  {
   "cell_type": "code",
   "execution_count": 35,
   "id": "528f4901-c0d6-48f3-a408-0618f20eda1f",
   "metadata": {},
   "outputs": [
    {
     "data": {
      "text/plain": [
       "['__class__',\n",
       " '__delattr__',\n",
       " '__dict__',\n",
       " '__dir__',\n",
       " '__doc__',\n",
       " '__eq__',\n",
       " '__format__',\n",
       " '__ge__',\n",
       " '__getattribute__',\n",
       " '__getstate__',\n",
       " '__gt__',\n",
       " '__hash__',\n",
       " '__init__',\n",
       " '__init_subclass__',\n",
       " '__le__',\n",
       " '__lt__',\n",
       " '__module__',\n",
       " '__ne__',\n",
       " '__new__',\n",
       " '__reduce__',\n",
       " '__reduce_ex__',\n",
       " '__repr__',\n",
       " '__setattr__',\n",
       " '__sizeof__',\n",
       " '__str__',\n",
       " '__subclasshook__',\n",
       " '__weakref__',\n",
       " 'doors',\n",
       " 'windows']"
      ]
     },
     "execution_count": 35,
     "metadata": {},
     "output_type": "execute_result"
    }
   ],
   "source": [
    "dir(car1)"
   ]
  },
  {
   "cell_type": "markdown",
   "id": "bb096374-9df2-4bb9-a664-c0c2bc44a92d",
   "metadata": {},
   "source": [
    "##### Constructor\n",
    "- used to initalize how many no of properties are getting used inside a particular class"
   ]
  },
  {
   "cell_type": "code",
   "execution_count": 39,
   "id": "c88d6970-74b2-4dd0-8897-145b146c5a5e",
   "metadata": {},
   "outputs": [],
   "source": [
    "class CAR():\n",
    "    def __init__(self,window,door,enginetype):\n",
    "        self.windows=window\n",
    "        self.doors=door\n",
    "        self.enginetype=enginetype"
   ]
  },
  {
   "cell_type": "code",
   "execution_count": 61,
   "id": "801f4210-0960-424b-9f62-4361dd80a3cd",
   "metadata": {},
   "outputs": [],
   "source": [
    "car1=CAR(4,5,\"Petrol\")"
   ]
  },
  {
   "cell_type": "code",
   "execution_count": 63,
   "id": "aa6d9662-b5a1-486a-853b-4cf147dbf05c",
   "metadata": {},
   "outputs": [],
   "source": [
    "car2=CAR(3,4,\"diesel\")"
   ]
  },
  {
   "cell_type": "code",
   "execution_count": 65,
   "id": "99d85834-4781-4dab-ac0f-9bba9ba20393",
   "metadata": {},
   "outputs": [],
   "source": [
    "car3=CAR(4,3,\"ev\")"
   ]
  },
  {
   "cell_type": "code",
   "execution_count": 67,
   "id": "59b7cb7e-52fc-4a18-b420-3a96db4c4991",
   "metadata": {},
   "outputs": [
    {
     "name": "stdout",
     "output_type": "stream",
     "text": [
      "diesel\n"
     ]
    }
   ],
   "source": [
    "print(car2.enginetype)"
   ]
  },
  {
   "cell_type": "code",
   "execution_count": 69,
   "id": "25f2a021-a6d9-4c99-8744-8e0d35d2006b",
   "metadata": {},
   "outputs": [
    {
     "name": "stdout",
     "output_type": "stream",
     "text": [
      "3\n"
     ]
    }
   ],
   "source": [
    "print(car3.doors)"
   ]
  },
  {
   "cell_type": "code",
   "execution_count": 71,
   "id": "ddc70a81-78ef-45a7-b39e-a3d637d3afa4",
   "metadata": {},
   "outputs": [],
   "source": [
    "# Adding def functionn to return\n",
    "\n",
    "class CAR:\n",
    "    def __init__(self,window,door,enginetype):\n",
    "        self.windows=window\n",
    "        self.doors=door\n",
    "        self.enginetype=enginetype\n",
    "    def self_Driving(self):\n",
    "        return \"This is a {} car\".format(self.enginetype)"
   ]
  },
  {
   "cell_type": "code",
   "execution_count": 77,
   "id": "3322334c-690b-45aa-ac2c-3e271aa54a53",
   "metadata": {},
   "outputs": [],
   "source": [
    "car1=CAR(4,5,\"Petrol\")\n",
    "car2=CAR(3,4,\"diesel\")\n",
    "car3=CAR(4,3,\"ev\")"
   ]
  },
  {
   "cell_type": "code",
   "execution_count": 79,
   "id": "4f02f6cf-1365-460b-851b-238c953e0ea9",
   "metadata": {},
   "outputs": [
    {
     "data": {
      "text/plain": [
       "'This is a Petrol car'"
      ]
     },
     "execution_count": 79,
     "metadata": {},
     "output_type": "execute_result"
    }
   ],
   "source": [
    "car1.self_Driving()"
   ]
  },
  {
   "cell_type": "markdown",
   "id": "0233aba5-d240-41cc-b1d1-0aa279c39c64",
   "metadata": {},
   "source": [
    "#### Public, Protected and Private"
   ]
  },
  {
   "cell_type": "code",
   "execution_count": 150,
   "id": "70631818-5596-4fa9-9551-1679859608a6",
   "metadata": {},
   "outputs": [],
   "source": [
    "## All the class variables are public\n",
    "class CAR():\n",
    "    def __init__(self,window,door,enginetype):  \n",
    "        self.windows=window\n",
    "        self.doors=door\n",
    "        self.enginetype=enginetype"
   ]
  },
  {
   "cell_type": "code",
   "execution_count": 90,
   "id": "e1620a87-c90d-42b5-ab6f-63063fdb5870",
   "metadata": {},
   "outputs": [],
   "source": [
    "audi=CAR(4,5,\"Diesel\")"
   ]
  },
  {
   "cell_type": "code",
   "execution_count": 92,
   "id": "1cef9363-6434-484e-85ab-09226dd581fc",
   "metadata": {},
   "outputs": [
    {
     "data": {
      "text/plain": [
       "<__main__.CAR at 0x21368f1e7b0>"
      ]
     },
     "execution_count": 92,
     "metadata": {},
     "output_type": "execute_result"
    }
   ],
   "source": [
    "# object of the audi\n",
    "audi"
   ]
  },
  {
   "cell_type": "code",
   "execution_count": 100,
   "id": "03162100-d691-4a75-9b70-cbade4657da4",
   "metadata": {},
   "outputs": [
    {
     "data": {
      "text/plain": [
       "['__class__',\n",
       " '__delattr__',\n",
       " '__dict__',\n",
       " '__dir__',\n",
       " '__doc__',\n",
       " '__eq__',\n",
       " '__format__',\n",
       " '__ge__',\n",
       " '__getattribute__',\n",
       " '__getstate__',\n",
       " '__gt__',\n",
       " '__hash__',\n",
       " '__init__',\n",
       " '__init_subclass__',\n",
       " '__le__',\n",
       " '__lt__',\n",
       " '__module__',\n",
       " '__ne__',\n",
       " '__new__',\n",
       " '__reduce__',\n",
       " '__reduce_ex__',\n",
       " '__repr__',\n",
       " '__setattr__',\n",
       " '__sizeof__',\n",
       " '__str__',\n",
       " '__subclasshook__',\n",
       " '__weakref__',\n",
       " 'doors',\n",
       " 'enginetype',\n",
       " 'windows']"
      ]
     },
     "execution_count": 100,
     "metadata": {},
     "output_type": "execute_result"
    }
   ],
   "source": [
    "dir(audi)"
   ]
  },
  {
   "cell_type": "code",
   "execution_count": 108,
   "id": "59f1e019-9138-4e26-aca0-1a40214038a0",
   "metadata": {},
   "outputs": [],
   "source": [
    "audi.doors=3"
   ]
  },
  {
   "cell_type": "code",
   "execution_count": 112,
   "id": "eed114ab-6a71-44af-89be-66d858630071",
   "metadata": {},
   "outputs": [
    {
     "data": {
      "text/plain": [
       "3"
      ]
     },
     "execution_count": 112,
     "metadata": {},
     "output_type": "execute_result"
    }
   ],
   "source": [
    "audi.doors"
   ]
  },
  {
   "cell_type": "code",
   "execution_count": 128,
   "id": "c7b920d6-3345-4f54-aea4-926abc37ea63",
   "metadata": {},
   "outputs": [],
   "source": [
    "## All the class variables are Protected\n",
    "class CAR():\n",
    "    def __init__(self,window,door,enginetype):  \n",
    "        self._windows=window\n",
    "        self._doors=door\n",
    "        self._enginetype=enginetype"
   ]
  },
  {
   "cell_type": "code",
   "execution_count": 144,
   "id": "f6212223-7bff-4139-83f5-a73de02659ec",
   "metadata": {},
   "outputs": [],
   "source": [
    "audi=CAR(4,4,\"Diesel\")"
   ]
  },
  {
   "cell_type": "code",
   "execution_count": 146,
   "id": "848bbe24-320e-4d31-84b2-312b9649ea78",
   "metadata": {},
   "outputs": [
    {
     "data": {
      "text/plain": [
       "['__class__',\n",
       " '__delattr__',\n",
       " '__dict__',\n",
       " '__dir__',\n",
       " '__doc__',\n",
       " '__eq__',\n",
       " '__format__',\n",
       " '__ge__',\n",
       " '__getattribute__',\n",
       " '__getstate__',\n",
       " '__gt__',\n",
       " '__hash__',\n",
       " '__init__',\n",
       " '__init_subclass__',\n",
       " '__le__',\n",
       " '__lt__',\n",
       " '__module__',\n",
       " '__ne__',\n",
       " '__new__',\n",
       " '__reduce__',\n",
       " '__reduce_ex__',\n",
       " '__repr__',\n",
       " '__setattr__',\n",
       " '__sizeof__',\n",
       " '__str__',\n",
       " '__subclasshook__',\n",
       " '__weakref__',\n",
       " '_doors',\n",
       " '_enginetype',\n",
       " '_windows']"
      ]
     },
     "execution_count": 146,
     "metadata": {},
     "output_type": "execute_result"
    }
   ],
   "source": [
    "dir(audi)"
   ]
  },
  {
   "cell_type": "code",
   "execution_count": 12,
   "id": "67ace0fb-121d-4120-965a-f78711e2e030",
   "metadata": {},
   "outputs": [],
   "source": [
    "class Truck(CAR):\n",
    "    def __init__(self,windows,doors,enginetype,horsepower):\n",
    "        super().__init__(windows,doors,enginetype)\n",
    "        self.horsepower=horsepower"
   ]
  },
  {
   "cell_type": "code",
   "execution_count": 14,
   "id": "d5ca98f4-ac15-4c5f-9344-f0da7eccc4f3",
   "metadata": {},
   "outputs": [],
   "source": [
    "truck = Truck(4,3,\"Petrol\",4000)"
   ]
  },
  {
   "cell_type": "code",
   "execution_count": 16,
   "id": "89bafe74-0965-49f9-a52e-b018fa9034bc",
   "metadata": {},
   "outputs": [
    {
     "data": {
      "text/plain": [
       "['_CAR__doors',\n",
       " '_CAR__enginetype',\n",
       " '_CAR__windows',\n",
       " '__class__',\n",
       " '__delattr__',\n",
       " '__dict__',\n",
       " '__dir__',\n",
       " '__doc__',\n",
       " '__eq__',\n",
       " '__format__',\n",
       " '__ge__',\n",
       " '__getattribute__',\n",
       " '__getstate__',\n",
       " '__gt__',\n",
       " '__hash__',\n",
       " '__init__',\n",
       " '__init_subclass__',\n",
       " '__le__',\n",
       " '__lt__',\n",
       " '__module__',\n",
       " '__ne__',\n",
       " '__new__',\n",
       " '__reduce__',\n",
       " '__reduce_ex__',\n",
       " '__repr__',\n",
       " '__setattr__',\n",
       " '__sizeof__',\n",
       " '__str__',\n",
       " '__subclasshook__',\n",
       " '__weakref__',\n",
       " 'horsepower']"
      ]
     },
     "execution_count": 16,
     "metadata": {},
     "output_type": "execute_result"
    }
   ],
   "source": [
    "dir(truck)"
   ]
  },
  {
   "cell_type": "code",
   "execution_count": 18,
   "id": "604cd8a3-1c1c-469b-8a0d-d7e2d7024fdd",
   "metadata": {},
   "outputs": [],
   "source": [
    "truck._doors=5"
   ]
  },
  {
   "cell_type": "code",
   "execution_count": 20,
   "id": "dbaa3403-4ade-4593-a8eb-d71dbb9eeda4",
   "metadata": {},
   "outputs": [
    {
     "data": {
      "text/plain": [
       "5"
      ]
     },
     "execution_count": 20,
     "metadata": {},
     "output_type": "execute_result"
    }
   ],
   "source": [
    "truck._doors"
   ]
  },
  {
   "cell_type": "code",
   "execution_count": 26,
   "id": "0a49cc8b-d6a1-4449-9157-309a5b708cab",
   "metadata": {},
   "outputs": [],
   "source": [
    "## Private -- can not be excessed anywhere\n",
    "\n",
    "class CAR():\n",
    "    def __init__(self,window,door,enginetype):  \n",
    "        self.__windows=window\n",
    "        self.__doors=door\n",
    "        self.__enginetype=enginetype"
   ]
  },
  {
   "cell_type": "code",
   "execution_count": 28,
   "id": "85005bb3-82d2-4271-932d-c7b80af1061c",
   "metadata": {},
   "outputs": [],
   "source": [
    "bmw=CAR(4,4,\"Pertol\")"
   ]
  },
  {
   "cell_type": "code",
   "execution_count": 30,
   "id": "4de63edd-bd44-4f8d-94cf-f7224c8b8f4e",
   "metadata": {},
   "outputs": [
    {
     "data": {
      "text/plain": [
       "['_CAR__doors',\n",
       " '_CAR__enginetype',\n",
       " '_CAR__windows',\n",
       " '__class__',\n",
       " '__delattr__',\n",
       " '__dict__',\n",
       " '__dir__',\n",
       " '__doc__',\n",
       " '__eq__',\n",
       " '__format__',\n",
       " '__ge__',\n",
       " '__getattribute__',\n",
       " '__getstate__',\n",
       " '__gt__',\n",
       " '__hash__',\n",
       " '__init__',\n",
       " '__init_subclass__',\n",
       " '__le__',\n",
       " '__lt__',\n",
       " '__module__',\n",
       " '__ne__',\n",
       " '__new__',\n",
       " '__reduce__',\n",
       " '__reduce_ex__',\n",
       " '__repr__',\n",
       " '__setattr__',\n",
       " '__sizeof__',\n",
       " '__str__',\n",
       " '__subclasshook__',\n",
       " '__weakref__']"
      ]
     },
     "execution_count": 30,
     "metadata": {},
     "output_type": "execute_result"
    }
   ],
   "source": [
    "dir(bmw)"
   ]
  },
  {
   "cell_type": "markdown",
   "id": "7f730d10-81ce-4903-96d4-57a63f6a09b9",
   "metadata": {},
   "source": [
    "### INHERITANCE"
   ]
  },
  {
   "cell_type": "code",
   "execution_count": 43,
   "id": "0e13ec38-23a7-4ac9-bfa3-051e3c36622a",
   "metadata": {},
   "outputs": [],
   "source": [
    "## ALl the class variables are public\n",
    "# Car Blueprint\n",
    "class CAR():\n",
    "    def __init__(self,window,door,enginetype):  # parent class\n",
    "        self.windows=window\n",
    "        self.doors=door\n",
    "        self.enginetype=enginetype\n",
    "    def drive(self):\n",
    "        print(\"The Person drives the car\")"
   ]
  },
  {
   "cell_type": "code",
   "execution_count": 45,
   "id": "783980ef-6aa5-44f0-8cd9-2c9a62ec807e",
   "metadata": {},
   "outputs": [],
   "source": [
    "car=CAR(4,5,\"Diesel\")"
   ]
  },
  {
   "cell_type": "code",
   "execution_count": 47,
   "id": "59107b15-d0f9-45ed-9e7f-6e532e5e0fb1",
   "metadata": {},
   "outputs": [
    {
     "data": {
      "text/plain": [
       "4"
      ]
     },
     "execution_count": 47,
     "metadata": {},
     "output_type": "execute_result"
    }
   ],
   "source": [
    "car.windows"
   ]
  },
  {
   "cell_type": "code",
   "execution_count": 49,
   "id": "04d41156-a819-4157-a814-9e6912a6d08e",
   "metadata": {},
   "outputs": [
    {
     "data": {
      "text/plain": [
       "['__class__',\n",
       " '__delattr__',\n",
       " '__dict__',\n",
       " '__dir__',\n",
       " '__doc__',\n",
       " '__eq__',\n",
       " '__format__',\n",
       " '__ge__',\n",
       " '__getattribute__',\n",
       " '__getstate__',\n",
       " '__gt__',\n",
       " '__hash__',\n",
       " '__init__',\n",
       " '__init_subclass__',\n",
       " '__le__',\n",
       " '__lt__',\n",
       " '__module__',\n",
       " '__ne__',\n",
       " '__new__',\n",
       " '__reduce__',\n",
       " '__reduce_ex__',\n",
       " '__repr__',\n",
       " '__setattr__',\n",
       " '__sizeof__',\n",
       " '__str__',\n",
       " '__subclasshook__',\n",
       " '__weakref__',\n",
       " 'doors',\n",
       " 'drive',\n",
       " 'enginetype',\n",
       " 'windows']"
      ]
     },
     "execution_count": 49,
     "metadata": {},
     "output_type": "execute_result"
    }
   ],
   "source": [
    "dir(car)"
   ]
  },
  {
   "cell_type": "code",
   "execution_count": 51,
   "id": "e288b0bf-1763-40c4-9c6f-c54255b73bd0",
   "metadata": {},
   "outputs": [
    {
     "name": "stdout",
     "output_type": "stream",
     "text": [
      "The Person drives the car\n"
     ]
    }
   ],
   "source": [
    "car.drive()"
   ]
  },
  {
   "cell_type": "code",
   "execution_count": 59,
   "id": "494ed092-fa1b-4bdb-84ca-4d455ab77808",
   "metadata": {},
   "outputs": [],
   "source": [
    "class audi(CAR):                                       # child class\n",
    "    def __init__(self,windows,doord,enginetype,ai):\n",
    "        super().__init__(windows,doord,enginetype)\n",
    "        self.ai=ai\n",
    "    def selfDriving(self):\n",
    "        print(\"Audi supports self Driving\")"
   ]
  },
  {
   "cell_type": "code",
   "execution_count": 61,
   "id": "8981cb45-9a61-42e3-be2e-74c56459aa21",
   "metadata": {},
   "outputs": [],
   "source": [
    "audiQ7=audi(5,5,\"Diesel\",True)"
   ]
  },
  {
   "cell_type": "code",
   "execution_count": 63,
   "id": "be1b6032-fd7c-42de-ad32-f5f1fa2a96bc",
   "metadata": {},
   "outputs": [
    {
     "data": {
      "text/plain": [
       "['__class__',\n",
       " '__delattr__',\n",
       " '__dict__',\n",
       " '__dir__',\n",
       " '__doc__',\n",
       " '__eq__',\n",
       " '__format__',\n",
       " '__ge__',\n",
       " '__getattribute__',\n",
       " '__getstate__',\n",
       " '__gt__',\n",
       " '__hash__',\n",
       " '__init__',\n",
       " '__init_subclass__',\n",
       " '__le__',\n",
       " '__lt__',\n",
       " '__module__',\n",
       " '__ne__',\n",
       " '__new__',\n",
       " '__reduce__',\n",
       " '__reduce_ex__',\n",
       " '__repr__',\n",
       " '__setattr__',\n",
       " '__sizeof__',\n",
       " '__str__',\n",
       " '__subclasshook__',\n",
       " '__weakref__',\n",
       " 'ai',\n",
       " 'doors',\n",
       " 'drive',\n",
       " 'enginetype',\n",
       " 'selfDriving',\n",
       " 'windows']"
      ]
     },
     "execution_count": 63,
     "metadata": {},
     "output_type": "execute_result"
    }
   ],
   "source": [
    "dir(audiQ7)"
   ]
  },
  {
   "cell_type": "code",
   "execution_count": 65,
   "id": "d0aad1b7-e5d1-4c16-b446-5585882f6649",
   "metadata": {},
   "outputs": [
    {
     "data": {
      "text/plain": [
       "bool"
      ]
     },
     "execution_count": 65,
     "metadata": {},
     "output_type": "execute_result"
    }
   ],
   "source": [
    "type(audiQ7.ai)"
   ]
  },
  {
   "cell_type": "code",
   "execution_count": 67,
   "id": "92f94453-c119-4ffd-8bc2-1e1b6783c6ad",
   "metadata": {},
   "outputs": [
    {
     "data": {
      "text/plain": [
       "5"
      ]
     },
     "execution_count": 67,
     "metadata": {},
     "output_type": "execute_result"
    }
   ],
   "source": [
    "audiQ7.windows"
   ]
  },
  {
   "cell_type": "code",
   "execution_count": null,
   "id": "ca12ae35-7a18-4027-8070-ead4ea26015c",
   "metadata": {},
   "outputs": [],
   "source": []
  }
 ],
 "metadata": {
  "kernelspec": {
   "display_name": "Python 3 (ipykernel)",
   "language": "python",
   "name": "python3"
  },
  "language_info": {
   "codemirror_mode": {
    "name": "ipython",
    "version": 3
   },
   "file_extension": ".py",
   "mimetype": "text/x-python",
   "name": "python",
   "nbconvert_exporter": "python",
   "pygments_lexer": "ipython3",
   "version": "3.12.7"
  }
 },
 "nbformat": 4,
 "nbformat_minor": 5
}

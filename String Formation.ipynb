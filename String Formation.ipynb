{
 "cells": [
  {
   "cell_type": "code",
   "execution_count": 1,
   "id": "f929b1e5-daf8-4bc5-971a-d191f0b0a986",
   "metadata": {},
   "outputs": [
    {
     "name": "stdout",
     "output_type": "stream",
     "text": [
      "Hello EveryOne\n"
     ]
    }
   ],
   "source": [
    "print(\"Hello EveryOne\")"
   ]
  },
  {
   "cell_type": "code",
   "execution_count": 5,
   "id": "91217a17-c460-4844-8e9e-8a12dc063038",
   "metadata": {},
   "outputs": [],
   "source": [
    "def greeting(name):\n",
    "    return \"Hello {}.Welcome to the community\".format(name)"
   ]
  },
  {
   "cell_type": "code",
   "execution_count": 9,
   "id": "3651d3a6-7843-4fa6-9089-809e3d87e801",
   "metadata": {},
   "outputs": [
    {
     "data": {
      "text/plain": [
       "'Hello Venky.Welcome to the community'"
      ]
     },
     "execution_count": 9,
     "metadata": {},
     "output_type": "execute_result"
    }
   ],
   "source": [
    "greeting(\"Venky\")"
   ]
  },
  {
   "cell_type": "code",
   "execution_count": 83,
   "id": "1b193bec-c77e-44bf-a224-4ba420d6dbec",
   "metadata": {},
   "outputs": [],
   "source": [
    "def welcome_email(name,age):\n",
    "    return \"Welcome {}.Your age is {}\".format(name,age)"
   ]
  },
  {
   "cell_type": "code",
   "execution_count": 85,
   "id": "bded4d49-e28e-48f8-8123-2e15f8a0ec6c",
   "metadata": {},
   "outputs": [
    {
     "data": {
      "text/plain": [
       "'Welcome Venky.Your age is 25'"
      ]
     },
     "execution_count": 85,
     "metadata": {},
     "output_type": "execute_result"
    }
   ],
   "source": [
    "welcome_email('Venky', 25)"
   ]
  },
  {
   "cell_type": "code",
   "execution_count": 89,
   "id": "55357d2a-c50f-4683-a93e-f996bedf79dd",
   "metadata": {},
   "outputs": [],
   "source": [
    "def welcome(full_name,c_age):\n",
    "    return \"Welcome {name}.Your age is {age}\".format(name=full_name,age=c_age)"
   ]
  },
  {
   "cell_type": "code",
   "execution_count": 92,
   "id": "cb371e31-d591-4924-90fc-0258c223ee5a",
   "metadata": {},
   "outputs": [
    {
     "data": {
      "text/plain": [
       "'Welcome Venkatesh.Your age is 25'"
      ]
     },
     "execution_count": 92,
     "metadata": {},
     "output_type": "execute_result"
    }
   ],
   "source": [
    "welcome('Venkatesh', 25)"
   ]
  },
  {
   "cell_type": "code",
   "execution_count": 94,
   "id": "51476a6b-6e9a-4441-a0e4-89f7f726634a",
   "metadata": {},
   "outputs": [],
   "source": [
    "def welcome(full_name,c_age):\n",
    "    return \"Welcome {name}.Your age is {age}\".format(age=full_name,name=c_age)"
   ]
  },
  {
   "cell_type": "code",
   "execution_count": 96,
   "id": "f4cc0d34-6ddf-4fc0-b30f-406bceed4a7f",
   "metadata": {},
   "outputs": [
    {
     "data": {
      "text/plain": [
       "'Welcome 25.Your age is Venkatesh'"
      ]
     },
     "execution_count": 96,
     "metadata": {},
     "output_type": "execute_result"
    }
   ],
   "source": [
    "welcome('Venkatesh', 25)"
   ]
  },
  {
   "cell_type": "code",
   "execution_count": null,
   "id": "0d5a1644-cb71-4ba4-8584-f865f96fbdf1",
   "metadata": {},
   "outputs": [],
   "source": []
  }
 ],
 "metadata": {
  "kernelspec": {
   "display_name": "Python 3 (ipykernel)",
   "language": "python",
   "name": "python3"
  },
  "language_info": {
   "codemirror_mode": {
    "name": "ipython",
    "version": 3
   },
   "file_extension": ".py",
   "mimetype": "text/x-python",
   "name": "python",
   "nbconvert_exporter": "python",
   "pygments_lexer": "ipython3",
   "version": "3.12.7"
  }
 },
 "nbformat": 4,
 "nbformat_minor": 5
}
